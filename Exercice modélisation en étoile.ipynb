{
 "cells": [
  {
   "cell_type": "code",
   "execution_count": 1,
   "id": "e4b1b09e-02a3-4fc0-8bcb-cd50ca492c03",
   "metadata": {},
   "outputs": [],
   "source": [
    "from pyspark.sql import SparkSession\n",
    "spark = SparkSession.builder.appName(\"superstore\").getOrCreate()"
   ]
  },
  {
   "cell_type": "code",
   "execution_count": 18,
   "id": "9d27ce8f-1293-4b31-802c-3d599550deeb",
   "metadata": {},
   "outputs": [],
   "source": [
    "from pyspark.sql.types import StructField, StructType, IntegerType, FloatType, DateType, StringType\n",
    "from pyspark.sql.functions import to_date, col, regexp_replace"
   ]
  },
  {
   "cell_type": "code",
   "execution_count": 13,
   "id": "4396bb17-7a21-4b67-8196-a53f7ebc656d",
   "metadata": {},
   "outputs": [],
   "source": [
    "sch = [StructField('Identifiant de la ligne', StringType(), True),\n",
    "\n",
    "       StructField('ID commande', StringType(), True),\n",
    "\n",
    "       StructField('Date de commande', StringType(), True),\n",
    "\n",
    "       StructField(\"Date d'expédition\", StringType(), True),\n",
    "\n",
    "       StructField(\"Mode d'expedition\", StringType(), True),\n",
    "\n",
    "       StructField(\"ID client\", StringType(), True),\n",
    "\n",
    "       StructField(\"Nom du client\", StringType(), True),\n",
    "\n",
    "       StructField(\"Segment\", StringType(), True),\n",
    "\n",
    "       StructField(\"Ville\", StringType(), True),\n",
    "\n",
    "       StructField(\"Etat\", StringType(), True),\n",
    "\n",
    "       StructField(\"Pays\", StringType(), True),\n",
    "\n",
    "       StructField(\"Code postal\", StringType(), True),\n",
    "\n",
    "       StructField(\"Marché\", StringType(), True),\n",
    "\n",
    "       StructField(\"Région\", StringType(), True),\n",
    "\n",
    "       StructField(\"ID produit\", StringType(), True),\n",
    "\n",
    "       StructField(\"Catégorie\", StringType(), True),\n",
    "\n",
    "       StructField(\"Sous-catégorie\", StringType(), True),\n",
    "\n",
    "       StructField(\"Nom du produit\", StringType(), True),\n",
    "\n",
    "       StructField(\"Ventes\", StringType(), True),\n",
    "\n",
    "       StructField(\"Quantité\", StringType(), True),\n",
    "\n",
    "       StructField(\"Réduction\", StringType(), True),\n",
    "\n",
    "       StructField(\"Bénéfices\", StringType(), True),\n",
    "\n",
    "       StructField(\"Frais de port\", StringType(), True),\n",
    "\n",
    "       StructField(\"Priorité de la commande\", StringType(), True)]"
   ]
  },
  {
   "cell_type": "code",
   "execution_count": 15,
   "id": "b2bec64d-8fda-44e8-bf4e-ae9b206eb58a",
   "metadata": {},
   "outputs": [],
   "source": [
    "struct = StructType(fields=sch)"
   ]
  },
  {
   "cell_type": "code",
   "execution_count": 16,
   "id": "a4a31a01-e66a-4f50-b8e1-2266d1972b4d",
   "metadata": {},
   "outputs": [],
   "source": [
    "achats_df = spark.read.csv('global_superstore_fr.csv',header=True, sep=';', schema = struct)"
   ]
  },
  {
   "cell_type": "code",
   "execution_count": 17,
   "id": "29e85634-06ee-4f87-946b-b71e49a61253",
   "metadata": {},
   "outputs": [
    {
     "name": "stdout",
     "output_type": "stream",
     "text": [
      "root\n",
      " |-- Identifiant de la ligne: string (nullable = true)\n",
      " |-- ID commande: string (nullable = true)\n",
      " |-- Date de commande: string (nullable = true)\n",
      " |-- Date d'expédition: string (nullable = true)\n",
      " |-- Mode d'expedition: string (nullable = true)\n",
      " |-- ID client: string (nullable = true)\n",
      " |-- Nom du client: string (nullable = true)\n",
      " |-- Segment: string (nullable = true)\n",
      " |-- Ville: string (nullable = true)\n",
      " |-- Etat: string (nullable = true)\n",
      " |-- Pays: string (nullable = true)\n",
      " |-- Code postal: string (nullable = true)\n",
      " |-- Marché: string (nullable = true)\n",
      " |-- Région: string (nullable = true)\n",
      " |-- ID produit: string (nullable = true)\n",
      " |-- Catégorie: string (nullable = true)\n",
      " |-- Sous-catégorie: string (nullable = true)\n",
      " |-- Nom du produit: string (nullable = true)\n",
      " |-- Ventes: string (nullable = true)\n",
      " |-- Quantité: string (nullable = true)\n",
      " |-- Réduction: string (nullable = true)\n",
      " |-- Bénéfices: string (nullable = true)\n",
      " |-- Frais de port: string (nullable = true)\n",
      " |-- Priorité de la commande: string (nullable = true)\n",
      "\n"
     ]
    }
   ],
   "source": [
    "achats_df.printSchema()"
   ]
  },
  {
   "cell_type": "code",
   "execution_count": 19,
   "id": "74a22609-dd36-4c60-b5d8-7ed08f00a086",
   "metadata": {},
   "outputs": [],
   "source": [
    "achats_df = achats_df.withColumn('Ventes', regexp_replace(col('Ventes'),',','.'))\\\n",
    ".withColumn('Bénéfices', regexp_replace(col('Bénéfices'),',','.'))\\\n",
    ".withColumn('Frais de port', regexp_replace(col('Frais de port'),',','.'))"
   ]
  },
  {
   "cell_type": "code",
   "execution_count": 23,
   "id": "c792bd68-e8cb-4d4f-88c3-87e05b3b104c",
   "metadata": {},
   "outputs": [
    {
     "name": "stdout",
     "output_type": "stream",
     "text": [
      "+------+---------+-------------+---------+\n",
      "|Ventes|Bénéfices|Frais de port|Réduction|\n",
      "+------+---------+-------------+---------+\n",
      "| 13.08|     4.56|        1.03 |        0|\n",
      "|252.16|    90.72|       13.45 |        0|\n",
      "|193.28|    54.08|        9.63 |        0|\n",
      "| 35.44|     4.96|        1.37 |        0|\n",
      "|  71.6|    11.44|        3.79 |        0|\n",
      "| 56.12|    21.32|        4.72 |        0|\n",
      "| 56.12|    21.32|        4.11 |        0|\n",
      "|344.64|   165.42|       26.20 |        0|\n",
      "| 97.36|    19.44|        6.86 |        0|\n",
      "|341.52|    13.64|       17.34 |        0|\n",
      "| 12.06|     3.48|        1.13 |        0|\n",
      "| 20.76|     9.54|        0.65 |        0|\n",
      "|210.64|    50.48|       16.07 |        0|\n",
      "|  80.1|    37.62|        8.86 |        0|\n",
      "|132.64|    35.76|        6.20 |        0|\n",
      "| 12.94|     1.02|        0.46 |        0|\n",
      "| 18.84|     -6.6|        1.60 |      0.4|\n",
      "|308.28|   -149.1|       27.77 |      0.4|\n",
      "|40.176|   -6.064|        2.14 |      0.4|\n",
      "| 8.784|   -4.836|        0.38 |      0.4|\n",
      "+------+---------+-------------+---------+\n",
      "only showing top 20 rows\n",
      "\n"
     ]
    }
   ],
   "source": [
    "achats_df.select(['Ventes','Bénéfices','Frais de port','Réduction']).show()"
   ]
  },
  {
   "cell_type": "code",
   "execution_count": 22,
   "id": "521b3f6b-7ec7-4f38-8de2-2b6b448c8605",
   "metadata": {},
   "outputs": [],
   "source": [
    "achats_df = achats_df.withColumn('Réduction', regexp_replace(col('Réduction'),',','.'))"
   ]
  },
  {
   "cell_type": "code",
   "execution_count": 24,
   "id": "bbb762e4-c661-4c9d-ac3c-9ed4cc6f4154",
   "metadata": {},
   "outputs": [
    {
     "name": "stdout",
     "output_type": "stream",
     "text": [
      "+----------------+-----------------+\n",
      "|Date de commande|Date d'expédition|\n",
      "+----------------+-----------------+\n",
      "|      02/10/2014|       06/10/2014|\n",
      "|      15/10/2012|       20/10/2012|\n",
      "|      15/10/2012|       20/10/2012|\n",
      "|      15/10/2012|       20/10/2012|\n",
      "|      15/10/2012|       20/10/2012|\n",
      "|      15/10/2012|       20/10/2012|\n",
      "|      27/09/2013|       01/10/2013|\n",
      "|      27/09/2013|       01/10/2013|\n",
      "|      27/09/2013|       01/10/2013|\n",
      "|      27/09/2013|       01/10/2013|\n",
      "|      27/09/2013|       01/10/2013|\n",
      "|      05/03/2013|       12/03/2013|\n",
      "|      05/03/2013|       12/03/2013|\n",
      "|      24/09/2014|       01/10/2014|\n",
      "|      18/10/2014|       23/10/2014|\n",
      "|      18/10/2014|       23/10/2014|\n",
      "|      26/06/2013|       01/07/2013|\n",
      "|      26/06/2013|       01/07/2013|\n",
      "|      26/06/2013|       01/07/2013|\n",
      "|      26/06/2013|       01/07/2013|\n",
      "+----------------+-----------------+\n",
      "only showing top 20 rows\n",
      "\n"
     ]
    }
   ],
   "source": [
    "achats_df.select(['Date de commande',\"Date d'expédition\"]).show()"
   ]
  },
  {
   "cell_type": "code",
   "execution_count": 25,
   "id": "785c096a-9444-40db-ab7e-7d4aa6cc3812",
   "metadata": {},
   "outputs": [],
   "source": [
    "achats_df = achats_df.withColumn('Date de commande', to_date(col('Date de commande'), 'dd/MM/yyyy'))\\\n",
    "                        .withColumn(\"Date d'expédition\", to_date(col(\"Date d'expédition\"), 'dd/MM/yyyy'))"
   ]
  },
  {
   "cell_type": "code",
   "execution_count": 26,
   "id": "217ba7eb-a930-48b8-a2aa-4f1322de3627",
   "metadata": {},
   "outputs": [
    {
     "name": "stdout",
     "output_type": "stream",
     "text": [
      "+----------------+-----------------+\n",
      "|Date de commande|Date d'expédition|\n",
      "+----------------+-----------------+\n",
      "|      2014-10-02|       2014-10-06|\n",
      "|      2012-10-15|       2012-10-20|\n",
      "|      2012-10-15|       2012-10-20|\n",
      "|      2012-10-15|       2012-10-20|\n",
      "|      2012-10-15|       2012-10-20|\n",
      "|      2012-10-15|       2012-10-20|\n",
      "|      2013-09-27|       2013-10-01|\n",
      "|      2013-09-27|       2013-10-01|\n",
      "|      2013-09-27|       2013-10-01|\n",
      "|      2013-09-27|       2013-10-01|\n",
      "|      2013-09-27|       2013-10-01|\n",
      "|      2013-03-05|       2013-03-12|\n",
      "|      2013-03-05|       2013-03-12|\n",
      "|      2014-09-24|       2014-10-01|\n",
      "|      2014-10-18|       2014-10-23|\n",
      "|      2014-10-18|       2014-10-23|\n",
      "|      2013-06-26|       2013-07-01|\n",
      "|      2013-06-26|       2013-07-01|\n",
      "|      2013-06-26|       2013-07-01|\n",
      "|      2013-06-26|       2013-07-01|\n",
      "+----------------+-----------------+\n",
      "only showing top 20 rows\n",
      "\n"
     ]
    }
   ],
   "source": [
    "achats_df.select(['Date de commande',\"Date d'expédition\"]).show()"
   ]
  },
  {
   "cell_type": "code",
   "execution_count": 27,
   "id": "af31fca3-7d00-439e-be7a-71e6d15e7262",
   "metadata": {},
   "outputs": [],
   "source": [
    "achats_df = achats_df.withColumn(\"Identifiant de la ligne\", col(\"Identifiant de la ligne\").cast(IntegerType()))\n",
    "achats_df = achats_df.withColumn(\"Ventes\", col(\"Ventes\").cast(FloatType()))\n",
    "achats_df = achats_df.withColumn(\"Quantité\", col(\"Quantité\").cast(IntegerType()))\n",
    "achats_df = achats_df.withColumn(\"Réduction\", col(\"Réduction\").cast(FloatType()))\n",
    "achats_df = achats_df.withColumn(\"Bénéfices\", col(\"Bénéfices\").cast(FloatType()))\n",
    "achats_df = achats_df.withColumn(\"Frais de port\", col(\"Frais de port\").cast(FloatType()))"
   ]
  },
  {
   "cell_type": "code",
   "execution_count": 28,
   "id": "61128bd3-92fe-433f-9c91-5efe767ca215",
   "metadata": {},
   "outputs": [
    {
     "name": "stdout",
     "output_type": "stream",
     "text": [
      "root\n",
      " |-- Identifiant de la ligne: integer (nullable = true)\n",
      " |-- ID commande: string (nullable = true)\n",
      " |-- Date de commande: date (nullable = true)\n",
      " |-- Date d'expédition: date (nullable = true)\n",
      " |-- Mode d'expedition: string (nullable = true)\n",
      " |-- ID client: string (nullable = true)\n",
      " |-- Nom du client: string (nullable = true)\n",
      " |-- Segment: string (nullable = true)\n",
      " |-- Ville: string (nullable = true)\n",
      " |-- Etat: string (nullable = true)\n",
      " |-- Pays: string (nullable = true)\n",
      " |-- Code postal: string (nullable = true)\n",
      " |-- Marché: string (nullable = true)\n",
      " |-- Région: string (nullable = true)\n",
      " |-- ID produit: string (nullable = true)\n",
      " |-- Catégorie: string (nullable = true)\n",
      " |-- Sous-catégorie: string (nullable = true)\n",
      " |-- Nom du produit: string (nullable = true)\n",
      " |-- Ventes: float (nullable = true)\n",
      " |-- Quantité: integer (nullable = true)\n",
      " |-- Réduction: float (nullable = true)\n",
      " |-- Bénéfices: float (nullable = true)\n",
      " |-- Frais de port: float (nullable = true)\n",
      " |-- Priorité de la commande: string (nullable = true)\n",
      "\n"
     ]
    }
   ],
   "source": [
    "achats_df.printSchema()"
   ]
  },
  {
   "cell_type": "code",
   "execution_count": 30,
   "id": "4b034106-f442-49f1-84a7-9ceaef931bdf",
   "metadata": {},
   "outputs": [],
   "source": [
    "# dimension client\n",
    "client_df = achats_df.select(\n",
    "    ['ID client','Nom du client','Segment','Ville','Etat','Pays','Code postal', 'Marché', 'Région']\n",
    ").distinct()"
   ]
  },
  {
   "cell_type": "code",
   "execution_count": 31,
   "id": "bb870945-7459-4300-9f31-b1e553980ffc",
   "metadata": {},
   "outputs": [
    {
     "name": "stdout",
     "output_type": "stream",
     "text": [
      "+---------+--------------------+-----------------+-----------------+---------------+--------------------+-----------+---------------+-------+\n",
      "|ID client|       Nom du client|          Segment|            Ville|           Etat|                Pays|Code postal|         Marché| Région|\n",
      "+---------+--------------------+-----------------+-----------------+---------------+--------------------+-----------+---------------+-------+\n",
      "| JD-15790|      Ignace Lagueux|     Consommateur|           Celaya|     Guanajuato|             Mexique|       null|AMÉRIQUE LATINE|   Nord|\n",
      "| PR-18880| Paulette LeBatelier|     Consommateur|    Gómez Palacio|        Durango|             Mexique|       null|AMÉRIQUE LATINE|   Nord|\n",
      "| PB-19105|Pierre-Paul Brunault|     Consommateur| General Escobedo|     Nuevo León|             Mexique|       null|AMÉRIQUE LATINE|   Nord|\n",
      "| EM-13960|     Étienne Mathieu|     Consommateur|          Morelia|      Michoacán|             Mexique|       null|AMÉRIQUE LATINE|   Nord|\n",
      "| KC-16255|    Julienne Pelchat|       Entreprise|        Carrefour|          Ouest|               Haïti|       null|AMÉRIQUE LATINE|Caraïbe|\n",
      "| HR-14770|       Gaétane Avare|Bureau à domicile|      Panama City|         Panama|              Panama|       null|AMÉRIQUE LATINE| Centre|\n",
      "| AT-10735|  Angélique Barrière|     Consommateur|    Santo Domingo|  Santo Domingo|République Domini...|       null|AMÉRIQUE LATINE|Caraïbe|\n",
      "| DL-13495|       Diego Truchon|       Entreprise|            Apopa|   San Salvador|         El Salvador|       null|AMÉRIQUE LATINE| Centre|\n",
      "| SC-20050|        Reine Hébert|Bureau à domicile|           Bogotá|         Bogota|            Colombie|       null|AMÉRIQUE LATINE|    Sud|\n",
      "| AA-10375|     Alexis Pellerin|     Consommateur|        Carrefour|          Ouest|               Haïti|       null|AMÉRIQUE LATINE|Caraïbe|\n",
      "| SL-20155|     Rudy Parmentier|Bureau à domicile|     San Salvador|   San Salvador|         El Salvador|       null|AMÉRIQUE LATINE| Centre|\n",
      "| HW-14935|     Gaston Cloutier|       Entreprise|           Madero|     Tamaulipas|             Mexique|       null|AMÉRIQUE LATINE|   Nord|\n",
      "| CS-11845|  Blondelle Lépicier|       Entreprise|          Tijuana|Baja California|             Mexique|       null|AMÉRIQUE LATINE|   Nord|\n",
      "| EB-13840|    Éloïse Deschênes|       Entreprise|          Holguín|        Holguín|                Cuba|       null|AMÉRIQUE LATINE|Caraïbe|\n",
      "| AH-10195|      Aimée Gabriaux|       Entreprise|       Montevideo|     Montevideo|             Uruguay|       null|AMÉRIQUE LATINE|    Sud|\n",
      "| DP-13165|     Daisy Migneault|     Consommateur|   Puerto La Cruz|     Anzoátegui|           Venezuela|       null|AMÉRIQUE LATINE|    Sud|\n",
      "| PO-19195|  Pomeroy Bonneville|Bureau à domicile|      Panama City|         Panama|              Panama|       null|AMÉRIQUE LATINE| Centre|\n",
      "| PB-19150|    Pierre Pelletier|     Consommateur|     Buenos Aires|   Buenos Aires|           Argentine|       null|AMÉRIQUE LATINE|    Sud|\n",
      "| EM-13810|        Élodie Caron|       Entreprise|Bom Jesus da Lapa|          Bahia|              Brésil|       null|AMÉRIQUE LATINE|    Sud|\n",
      "| BT-11485|         Avril Leroy|Bureau à domicile|          Indaial| Santa Catarina|              Brésil|       null|AMÉRIQUE LATINE|    Sud|\n",
      "+---------+--------------------+-----------------+-----------------+---------------+--------------------+-----------+---------------+-------+\n",
      "only showing top 20 rows\n",
      "\n"
     ]
    }
   ],
   "source": [
    "client_df.show()"
   ]
  },
  {
   "cell_type": "code",
   "execution_count": 32,
   "id": "a32069ce-c8c4-46d5-b3c6-04be2dbae6b0",
   "metadata": {},
   "outputs": [],
   "source": [
    "# dimension produit\n",
    "produit_df = achats_df.select(\n",
    "    ['ID produit','Nom du produit','Sous-catégorie']\n",
    ").distinct()"
   ]
  },
  {
   "cell_type": "code",
   "execution_count": 33,
   "id": "356b9f10-7275-4bc0-bbe0-854beeb82f7f",
   "metadata": {},
   "outputs": [
    {
     "name": "stdout",
     "output_type": "stream",
     "text": [
      "+---------------+--------------------+--------------------+\n",
      "|     ID produit|      Nom du produit|      Sous-catégorie|\n",
      "+---------------+--------------------+--------------------+\n",
      "|OFF-LA-10001038|Smead Legal Exhib...|          Étiquettes|\n",
      "|FUR-TA-10004840|Hon Conference Ta...|              Tables|\n",
      "|OFF-LA-10002015|Hon Round Labels,...|          Étiquettes|\n",
      "|TEC-CO-10004521|HP Personal Copie...|       Photocopieurs|\n",
      "|OFF-ST-10002632|Smead Shelving, I...|            Stockage|\n",
      "|FUR-TA-10003597|Bevis Wood Table,...|              Tables|\n",
      "|TEC-AC-10004752|Memorex Keyboard,...|         Accessoires|\n",
      "|OFF-ST-10000560|Fellowes Trays, I...|            Stockage|\n",
      "|OFF-SU-10004662|Elite Scissors, S...|         Fournitures|\n",
      "|OFF-AP-10004245| Hoover Stove, Black|           Appareils|\n",
      "|TEC-AC-10001355|Memorex Router, P...|         Accessoires|\n",
      "|OFF-SU-10000153|Acme Shears, High...|         Fournitures|\n",
      "|TEC-AC-10000271|Enermax Router, E...|         Accessoires|\n",
      "|FUR-BO-10002574|Bush Corner Shelv...|       Bibliothèques|\n",
      "|OFF-ST-10001818|   Smead Trays, Blue|            Stockage|\n",
      "|OFF-ST-10000695|Rogers Lockers, W...|            Stockage|\n",
      "|OFF-BI-10001621|Cardinal Binding ...|           Classeurs|\n",
      "|TEC-AC-10004997|Belkin Memory Car...|         Accessoires|\n",
      "|OFF-AR-10000724|Boston Pens, Fluo...|                 Art|\n",
      "|OFF-FA-10001097|Accos Paper Clips...|Éléments de fixation|\n",
      "+---------------+--------------------+--------------------+\n",
      "only showing top 20 rows\n",
      "\n"
     ]
    }
   ],
   "source": [
    "produit_df.show()"
   ]
  },
  {
   "cell_type": "code",
   "execution_count": null,
   "id": "4fb5fdd5-5cfe-4fb7-ac9e-8b578bb34431",
   "metadata": {},
   "outputs": [],
   "source": [
    "LAZY EVALUATION!!!!"
   ]
  },
  {
   "cell_type": "code",
   "execution_count": 36,
   "id": "dd13fecf-6934-4c9e-aacf-f29282db27d2",
   "metadata": {},
   "outputs": [],
   "source": [
    "achat_df = achats_df.select(\n",
    "    ['ID client', 'ID commande', 'ID produit', 'Identifiant de la ligne', 'Ventes',\n",
    " 'Quantité',\n",
    " 'Réduction',\n",
    " 'Bénéfices',\n",
    " 'Frais de port',\n",
    " 'Priorité de la commande']\n",
    ")"
   ]
  },
  {
   "cell_type": "code",
   "execution_count": 37,
   "id": "00c8d7f4-ebf7-4f75-b203-7608b82fc62d",
   "metadata": {},
   "outputs": [
    {
     "name": "stdout",
     "output_type": "stream",
     "text": [
      "+---------+--------------+---------------+-----------------------+------+--------+---------+---------+-------------+-----------------------+\n",
      "|ID client|   ID commande|     ID produit|Identifiant de la ligne|Ventes|Quantité|Réduction|Bénéfices|Frais de port|Priorité de la commande|\n",
      "+---------+--------------+---------------+-----------------------+------+--------+---------+---------+-------------+-----------------------+\n",
      "| SC-20575|MX-2014-143658|OFF-LA-10002782|                      1| 13.08|       3|      0.0|     4.56|         1.03|                Moyenne|\n",
      "| KW-16570|MX-2012-155047|FUR-FU-10004015|                      2|252.16|       8|      0.0|    90.72|        13.45|                Moyenne|\n",
      "| KW-16570|MX-2012-155047|FUR-BO-10002352|                      3|193.28|       2|      0.0|    54.08|         9.63|                Moyenne|\n",
      "| KW-16570|MX-2012-155047|OFF-BI-10004428|                      4| 35.44|       4|      0.0|     4.96|         1.37|                Moyenne|\n",
      "| KW-16570|MX-2012-155047|OFF-AR-10004594|                      5|  71.6|       2|      0.0|    11.44|         3.79|                Moyenne|\n",
      "| KW-16570|MX-2012-155047|OFF-EN-10001375|                      6| 56.12|       2|      0.0|    21.32|         4.72|                Moyenne|\n",
      "| DP-13000|MX-2013-134096|OFF-EN-10001375|                      7| 56.12|       2|      0.0|    21.32|         4.11|                Moyenne|\n",
      "| DP-13000|MX-2013-134096|TEC-MA-10004956|                      8|344.64|       3|      0.0|   165.42|         26.2|                Moyenne|\n",
      "| DP-13000|MX-2013-134096|OFF-SU-10003474|                      9| 97.36|       4|      0.0|    19.44|         6.86|                Moyenne|\n",
      "| DP-13000|MX-2013-134096|TEC-AC-10001830|                     10|341.52|       2|      0.0|    13.64|        17.34|                Moyenne|\n",
      "| DP-13000|MX-2013-134096|OFF-BI-10002075|                     11| 12.06|       3|      0.0|     3.48|         1.13|                Moyenne|\n",
      "| TB-21250|MX-2013-156335|OFF-FA-10002526|                     12| 20.76|       3|      0.0|     9.54|         0.65|                Moyenne|\n",
      "| TB-21250|MX-2013-156335|FUR-CH-10002846|                     13|210.64|       4|      0.0|    50.48|        16.07|                Moyenne|\n",
      "| PK-18910|MX-2014-121923|OFF-EN-10004100|                     14|  80.1|       3|      0.0|    37.62|         8.86|                 Faible|\n",
      "| JK-15625|MX-2014-135706|OFF-AR-10003914|                     15|132.64|       4|      0.0|    35.76|          6.2|                Moyenne|\n",
      "| JK-15625|MX-2014-135706|OFF-FA-10000038|                     16| 12.94|       1|      0.0|     1.02|         0.46|                Moyenne|\n",
      "| HE-14800|US-2013-126655|OFF-EN-10000761|                     17| 18.84|       2|      0.4|     -6.6|          1.6|                Moyenne|\n",
      "| HE-14800|US-2013-126655|FUR-FU-10003066|                     18|308.28|       7|      0.4|   -149.1|        27.77|                Moyenne|\n",
      "| HE-14800|US-2013-126655|OFF-EN-10000075|                     19|40.176|       2|      0.4|   -6.064|         2.14|                Moyenne|\n",
      "| HE-14800|US-2013-126655|OFF-EN-10002226|                     20| 8.784|       3|      0.4|   -4.836|         0.38|                Moyenne|\n",
      "+---------+--------------+---------------+-----------------------+------+--------+---------+---------+-------------+-----------------------+\n",
      "only showing top 20 rows\n",
      "\n"
     ]
    }
   ],
   "source": [
    "achat_df.show()"
   ]
  },
  {
   "cell_type": "code",
   "execution_count": null,
   "id": "6945e7be-9ada-467d-a04c-df2dffd65deb",
   "metadata": {},
   "outputs": [],
   "source": []
  }
 ],
 "metadata": {
  "kernelspec": {
   "display_name": "Python 3 (ipykernel)",
   "language": "python",
   "name": "python3"
  },
  "language_info": {
   "codemirror_mode": {
    "name": "ipython",
    "version": 3
   },
   "file_extension": ".py",
   "mimetype": "text/x-python",
   "name": "python",
   "nbconvert_exporter": "python",
   "pygments_lexer": "ipython3",
   "version": "3.11.7"
  }
 },
 "nbformat": 4,
 "nbformat_minor": 5
}
