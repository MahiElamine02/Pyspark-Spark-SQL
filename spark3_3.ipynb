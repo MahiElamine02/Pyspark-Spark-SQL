{
 "cells": [
  {
   "cell_type": "code",
   "execution_count": 112,
   "metadata": {},
   "outputs": [],
   "source": [
    "from pyspark.sql import SparkSession"
   ]
  },
  {
   "cell_type": "code",
   "execution_count": 113,
   "metadata": {},
   "outputs": [],
   "source": [
    "spark = SparkSession.builder.appName(\"analye\").getOrCreate()"
   ]
  },
  {
   "cell_type": "code",
   "execution_count": 114,
   "metadata": {},
   "outputs": [],
   "source": [
    "from pyspark.sql.types import StructField, StringType, IntegerType, StructType, FloatType, DateType"
   ]
  },
  {
   "cell_type": "code",
   "execution_count": 115,
   "metadata": {},
   "outputs": [],
   "source": [
    "sch = [StructField('Identifiant de la ligne', StringType(), True),\n",
    "       StructField('ID commande', StringType(), True),\n",
    "       StructField('Date de commande', StringType(), True),\n",
    "       StructField(\"Date d'expédition\", StringType(), True),\n",
    "       StructField(\"Mode d'expedition\", StringType(), True),\n",
    "       StructField(\"ID client\", StringType(), True),\n",
    "       StructField(\"Nom du client\", StringType(), True),\n",
    "       StructField(\"Segment\", StringType(), True),\n",
    "       StructField(\"Ville\", StringType(), True),\n",
    "       StructField(\"Etat\", StringType(), True),\n",
    "       StructField(\"Pays\", StringType(), True),\n",
    "       StructField(\"Code postal\", StringType(), True),\n",
    "       StructField(\"Marché\", StringType(), True),\n",
    "       StructField(\"Région\", StringType(), True),\n",
    "       StructField(\"ID produit\", StringType(), True),\n",
    "       StructField(\"Catégorie\", StringType(), True),\n",
    "       StructField(\"Sous-catégorie\", StringType(), True),\n",
    "       StructField(\"Nom du produit\", StringType(), True),\n",
    "       StructField(\"Ventes\", StringType(), True),\n",
    "       StructField(\"Quantité\", StringType(), True),\n",
    "       StructField(\"Réduction\", StringType(), True),\n",
    "       StructField(\"Bénéfices\", StringType(), True),\n",
    "       StructField(\"Frais de port\", StringType(), True),\n",
    "       StructField(\"Priorité de la commande\", StringType(), True)]"
   ]
  },
  {
   "cell_type": "code",
   "execution_count": 116,
   "metadata": {},
   "outputs": [],
   "source": [
    "struct = StructType(fields=sch)"
   ]
  },
  {
   "cell_type": "code",
   "execution_count": 117,
   "metadata": {},
   "outputs": [],
   "source": [
    "df = spark.read.csv(\"global_superstore_fr.csv\", sep=\";\", header=True, schema=struct)"
   ]
  },
  {
   "cell_type": "code",
   "execution_count": 118,
   "metadata": {},
   "outputs": [
    {
     "name": "stdout",
     "output_type": "stream",
     "text": [
      "+-----------------------+--------------+----------------+-----------------+-----------------+---------+-------------------+-----------------+-------------+----------------+---------+-----------+---------------+------+---------------+--------------------+--------------------+--------------------+------+--------+---------+---------+-------------+-----------------------+\n",
      "|Identifiant de la ligne|   ID commande|Date de commande|Date d'expédition|Mode d'expedition|ID client|      Nom du client|          Segment|        Ville|            Etat|     Pays|Code postal|         Marché|Région|     ID produit|           Catégorie|      Sous-catégorie|      Nom du produit|Ventes|Quantité|Réduction|Bénéfices|Frais de port|Priorité de la commande|\n",
      "+-----------------------+--------------+----------------+-----------------+-----------------+---------+-------------------+-----------------+-------------+----------------+---------+-----------+---------------+------+---------------+--------------------+--------------------+--------------------+------+--------+---------+---------+-------------+-----------------------+\n",
      "|                      1|MX-2014-143658|      02/10/2014|       06/10/2014|     Tarif normal| SC-20575|   Sylviane Édouard|     Consommateur|  Mexico City|Distrito Federal|  Mexique|       NULL|AMÉRIQUE LATINE|  Nord|OFF-LA-10002782|Fournitures de bu...|          Étiquettes|Hon File Folder L...| 13,08|       3|        0|     4,56|        1,03 |                Moyenne|\n",
      "|                      2|MX-2012-155047|      15/10/2012|       20/10/2012|     Tarif normal| KW-16570|         Leroy Ruel|     Consommateur|Dos Quebradas|       Risaralda| Colombie|       NULL|AMÉRIQUE LATINE|   Sud|FUR-FU-10004015|            Mobilier|             Meubles|Tenex Clock, Durable|252,16|       8|        0|    90,72|       13,45 |                Moyenne|\n",
      "|                      3|MX-2012-155047|      15/10/2012|       20/10/2012|     Tarif normal| KW-16570|         Leroy Ruel|     Consommateur|Dos Quebradas|       Risaralda| Colombie|       NULL|AMÉRIQUE LATINE|   Sud|FUR-BO-10002352|            Mobilier|       Bibliothèques|Ikea 3-Shelf Cabi...|193,28|       2|        0|    54,08|        9,63 |                Moyenne|\n",
      "|                      4|MX-2012-155047|      15/10/2012|       20/10/2012|     Tarif normal| KW-16570|         Leroy Ruel|     Consommateur|Dos Quebradas|       Risaralda| Colombie|       NULL|AMÉRIQUE LATINE|   Sud|OFF-BI-10004428|Fournitures de bu...|           Classeurs|Cardinal Binder, ...| 35,44|       4|        0|     4,96|        1,37 |                Moyenne|\n",
      "|                      5|MX-2012-155047|      15/10/2012|       20/10/2012|     Tarif normal| KW-16570|         Leroy Ruel|     Consommateur|Dos Quebradas|       Risaralda| Colombie|       NULL|AMÉRIQUE LATINE|   Sud|OFF-AR-10004594|Fournitures de bu...|                 Art|Sanford Canvas, W...|  71,6|       2|        0|    11,44|        3,79 |                Moyenne|\n",
      "|                      6|MX-2012-155047|      15/10/2012|       20/10/2012|     Tarif normal| KW-16570|         Leroy Ruel|     Consommateur|Dos Quebradas|       Risaralda| Colombie|       NULL|AMÉRIQUE LATINE|   Sud|OFF-EN-10001375|Fournitures de bu...|          Enveloppes|GlobeWeis Mailers...| 56,12|       2|        0|    21,32|        4,72 |                Moyenne|\n",
      "|                      7|MX-2013-134096|      27/09/2013|       01/10/2013|     Tarif normal| DP-13000|Constance Brisebois|     Consommateur|    São Paulo|       São Paulo|   Brésil|       NULL|AMÉRIQUE LATINE|   Sud|OFF-EN-10001375|Fournitures de bu...|          Enveloppes|GlobeWeis Mailers...| 56,12|       2|        0|    21,32|        4,11 |                Moyenne|\n",
      "|                      8|MX-2013-134096|      27/09/2013|       01/10/2013|     Tarif normal| DP-13000|Constance Brisebois|     Consommateur|    São Paulo|       São Paulo|   Brésil|       NULL|AMÉRIQUE LATINE|   Sud|TEC-MA-10004956|         Technologie|            Machines|Konica Card Print...|344,64|       3|        0|   165,42|       26,20 |                Moyenne|\n",
      "|                      9|MX-2013-134096|      27/09/2013|       01/10/2013|     Tarif normal| DP-13000|Constance Brisebois|     Consommateur|    São Paulo|       São Paulo|   Brésil|       NULL|AMÉRIQUE LATINE|   Sud|OFF-SU-10003474|Fournitures de bu...|         Fournitures|Elite Box Cutter,...| 97,36|       4|        0|    19,44|        6,86 |                Moyenne|\n",
      "|                     10|MX-2013-134096|      27/09/2013|       01/10/2013|     Tarif normal| DP-13000|Constance Brisebois|     Consommateur|    São Paulo|       São Paulo|   Brésil|       NULL|AMÉRIQUE LATINE|   Sud|TEC-AC-10001830|         Technologie|         Accessoires|Enermax Router, E...|341,52|       2|        0|    13,64|       17,34 |                Moyenne|\n",
      "|                     11|MX-2013-134096|      27/09/2013|       01/10/2013|     Tarif normal| DP-13000|Constance Brisebois|     Consommateur|    São Paulo|       São Paulo|   Brésil|       NULL|AMÉRIQUE LATINE|   Sud|OFF-BI-10002075|Fournitures de bu...|           Classeurs|Wilson Jones Hole...| 12,06|       3|        0|     3,48|        1,13 |                Moyenne|\n",
      "|                     12|MX-2013-156335|      05/03/2013|       12/03/2013|     Tarif normal| TB-21250|   Tristan Perrault|     Consommateur|      Managua|         Managua|Nicaragua|       NULL|AMÉRIQUE LATINE|Centre|OFF-FA-10002526|Fournitures de bu...|Éléments de fixation|Accos Staples, 12...| 20,76|       3|        0|     9,54|        0,65 |                Moyenne|\n",
      "|                     13|MX-2013-156335|      05/03/2013|       12/03/2013|     Tarif normal| TB-21250|   Tristan Perrault|     Consommateur|      Managua|         Managua|Nicaragua|       NULL|AMÉRIQUE LATINE|Centre|FUR-CH-10002846|            Mobilier|             Chaises|Hon Steel Folding...|210,64|       4|        0|    50,48|       16,07 |                Moyenne|\n",
      "|                     14|MX-2014-121923|      24/09/2014|       01/10/2014|     Tarif normal| PK-18910|       Pépin Duffet|Bureau à domicile|      Managua|         Managua|Nicaragua|       NULL|AMÉRIQUE LATINE|Centre|OFF-EN-10004100|Fournitures de bu...|          Enveloppes|Kraft Mailers, Se...|  80,1|       3|        0|    37,62|        8,86 |                 Faible|\n",
      "|                     15|MX-2014-135706|      18/10/2014|       23/10/2014|     Tarif normal| JK-15625|      Henry Mazuret|     Consommateur|     Brasília|Federal District|   Brésil|       NULL|AMÉRIQUE LATINE|   Sud|OFF-AR-10003914|Fournitures de bu...|                 Art|Stanley Canvas, E...|132,64|       4|        0|    35,76|        6,20 |                Moyenne|\n",
      "|                     16|MX-2014-135706|      18/10/2014|       23/10/2014|     Tarif normal| JK-15625|      Henry Mazuret|     Consommateur|     Brasília|Federal District|   Brésil|       NULL|AMÉRIQUE LATINE|   Sud|OFF-FA-10000038|Fournitures de bu...|Éléments de fixation|Advantus Clamps, ...| 12,94|       1|        0|     1,02|        0,46 |                Moyenne|\n",
      "|                     17|US-2013-126655|      26/06/2013|       01/07/2013|     Tarif normal| HE-14800|    Galatée LaGarde|       Entreprise|San Miguelito|          Panama|   Panama|       NULL|AMÉRIQUE LATINE|Centre|OFF-EN-10000761|Fournitures de bu...|          Enveloppes|Jiffy Peel and Se...| 18,84|       2|      0,4|     -6,6|        1,60 |                Moyenne|\n",
      "|                     18|US-2013-126655|      26/06/2013|       01/07/2013|     Tarif normal| HE-14800|    Galatée LaGarde|       Entreprise|San Miguelito|          Panama|   Panama|       NULL|AMÉRIQUE LATINE|Centre|FUR-FU-10003066|            Mobilier|             Meubles|Deflect-O Frame, ...|308,28|       7|      0,4|   -149,1|       27,77 |                Moyenne|\n",
      "|                     19|US-2013-126655|      26/06/2013|       01/07/2013|     Tarif normal| HE-14800|    Galatée LaGarde|       Entreprise|San Miguelito|          Panama|   Panama|       NULL|AMÉRIQUE LATINE|Centre|OFF-EN-10000075|Fournitures de bu...|          Enveloppes|GlobeWeis Interof...|40,176|       2|      0,4|   -6,064|        2,14 |                Moyenne|\n",
      "|                     20|US-2013-126655|      26/06/2013|       01/07/2013|     Tarif normal| HE-14800|    Galatée LaGarde|       Entreprise|San Miguelito|          Panama|   Panama|       NULL|AMÉRIQUE LATINE|Centre|OFF-EN-10002226|Fournitures de bu...|          Enveloppes|Jiffy Clasp Envel...| 8,784|       3|      0,4|   -4,836|        0,38 |                Moyenne|\n",
      "+-----------------------+--------------+----------------+-----------------+-----------------+---------+-------------------+-----------------+-------------+----------------+---------+-----------+---------------+------+---------------+--------------------+--------------------+--------------------+------+--------+---------+---------+-------------+-----------------------+\n",
      "only showing top 20 rows\n",
      "\n"
     ]
    }
   ],
   "source": [
    "df.show()"
   ]
  },
  {
   "cell_type": "code",
   "execution_count": 119,
   "metadata": {},
   "outputs": [],
   "source": [
    "from pyspark.sql.functions import col, regexp_replace"
   ]
  },
  {
   "cell_type": "code",
   "execution_count": 120,
   "metadata": {},
   "outputs": [],
   "source": [
    "df = df.withColumn(\"Ventes\", regexp_replace(col(\"Ventes\"), \",\", \".\"))\n",
    "df = df.withColumn(\"Bénéfices\", regexp_replace(col(\"Bénéfices\"), \",\", \".\"))\n",
    "df = df.withColumn(\"Frais de port\", regexp_replace(col(\"Frais de port\"), \",\", \".\"))\n",
    "df = df.withColumn(\"Réduction\", regexp_replace(col(\"Réduction\"), \",\", \".\"))"
   ]
  },
  {
   "cell_type": "code",
   "execution_count": null,
   "metadata": {},
   "outputs": [],
   "source": [
    "# 2émé méthode : \n",
    "df = df.withColumn(\"Ventes\", regexp_replace(col(\"Ventes\"), \",\", \".\"))\\\n",
    ".withColumn(\"Bénéfices\", regexp_replace(col(\"Bénéfices\"), \",\", \".\"))\\\n",
    ".withColumn(\"Frais de port\", regexp_replace(col(\"Frais de port\"), \",\", \".\"))\\\n",
    ".withColumn(\"Réduction\", regexp_replace(col(\"Réduction\"), \",\", \".\"))"
   ]
  },
  {
   "cell_type": "code",
   "execution_count": 121,
   "metadata": {},
   "outputs": [
    {
     "name": "stdout",
     "output_type": "stream",
     "text": [
      "+-----------------------+--------------+----------------+-----------------+-----------------+---------+-------------------+-----------------+-------------+----------------+---------+-----------+---------------+------+---------------+--------------------+--------------------+--------------------+------+--------+---------+---------+-------------+-----------------------+\n",
      "|Identifiant de la ligne|   ID commande|Date de commande|Date d'expédition|Mode d'expedition|ID client|      Nom du client|          Segment|        Ville|            Etat|     Pays|Code postal|         Marché|Région|     ID produit|           Catégorie|      Sous-catégorie|      Nom du produit|Ventes|Quantité|Réduction|Bénéfices|Frais de port|Priorité de la commande|\n",
      "+-----------------------+--------------+----------------+-----------------+-----------------+---------+-------------------+-----------------+-------------+----------------+---------+-----------+---------------+------+---------------+--------------------+--------------------+--------------------+------+--------+---------+---------+-------------+-----------------------+\n",
      "|                      1|MX-2014-143658|      02/10/2014|       06/10/2014|     Tarif normal| SC-20575|   Sylviane Édouard|     Consommateur|  Mexico City|Distrito Federal|  Mexique|       NULL|AMÉRIQUE LATINE|  Nord|OFF-LA-10002782|Fournitures de bu...|          Étiquettes|Hon File Folder L...| 13.08|       3|        0|     4.56|        1.03 |                Moyenne|\n",
      "|                      2|MX-2012-155047|      15/10/2012|       20/10/2012|     Tarif normal| KW-16570|         Leroy Ruel|     Consommateur|Dos Quebradas|       Risaralda| Colombie|       NULL|AMÉRIQUE LATINE|   Sud|FUR-FU-10004015|            Mobilier|             Meubles|Tenex Clock, Durable|252.16|       8|        0|    90.72|       13.45 |                Moyenne|\n",
      "|                      3|MX-2012-155047|      15/10/2012|       20/10/2012|     Tarif normal| KW-16570|         Leroy Ruel|     Consommateur|Dos Quebradas|       Risaralda| Colombie|       NULL|AMÉRIQUE LATINE|   Sud|FUR-BO-10002352|            Mobilier|       Bibliothèques|Ikea 3-Shelf Cabi...|193.28|       2|        0|    54.08|        9.63 |                Moyenne|\n",
      "|                      4|MX-2012-155047|      15/10/2012|       20/10/2012|     Tarif normal| KW-16570|         Leroy Ruel|     Consommateur|Dos Quebradas|       Risaralda| Colombie|       NULL|AMÉRIQUE LATINE|   Sud|OFF-BI-10004428|Fournitures de bu...|           Classeurs|Cardinal Binder, ...| 35.44|       4|        0|     4.96|        1.37 |                Moyenne|\n",
      "|                      5|MX-2012-155047|      15/10/2012|       20/10/2012|     Tarif normal| KW-16570|         Leroy Ruel|     Consommateur|Dos Quebradas|       Risaralda| Colombie|       NULL|AMÉRIQUE LATINE|   Sud|OFF-AR-10004594|Fournitures de bu...|                 Art|Sanford Canvas, W...|  71.6|       2|        0|    11.44|        3.79 |                Moyenne|\n",
      "|                      6|MX-2012-155047|      15/10/2012|       20/10/2012|     Tarif normal| KW-16570|         Leroy Ruel|     Consommateur|Dos Quebradas|       Risaralda| Colombie|       NULL|AMÉRIQUE LATINE|   Sud|OFF-EN-10001375|Fournitures de bu...|          Enveloppes|GlobeWeis Mailers...| 56.12|       2|        0|    21.32|        4.72 |                Moyenne|\n",
      "|                      7|MX-2013-134096|      27/09/2013|       01/10/2013|     Tarif normal| DP-13000|Constance Brisebois|     Consommateur|    São Paulo|       São Paulo|   Brésil|       NULL|AMÉRIQUE LATINE|   Sud|OFF-EN-10001375|Fournitures de bu...|          Enveloppes|GlobeWeis Mailers...| 56.12|       2|        0|    21.32|        4.11 |                Moyenne|\n",
      "|                      8|MX-2013-134096|      27/09/2013|       01/10/2013|     Tarif normal| DP-13000|Constance Brisebois|     Consommateur|    São Paulo|       São Paulo|   Brésil|       NULL|AMÉRIQUE LATINE|   Sud|TEC-MA-10004956|         Technologie|            Machines|Konica Card Print...|344.64|       3|        0|   165.42|       26.20 |                Moyenne|\n",
      "|                      9|MX-2013-134096|      27/09/2013|       01/10/2013|     Tarif normal| DP-13000|Constance Brisebois|     Consommateur|    São Paulo|       São Paulo|   Brésil|       NULL|AMÉRIQUE LATINE|   Sud|OFF-SU-10003474|Fournitures de bu...|         Fournitures|Elite Box Cutter,...| 97.36|       4|        0|    19.44|        6.86 |                Moyenne|\n",
      "|                     10|MX-2013-134096|      27/09/2013|       01/10/2013|     Tarif normal| DP-13000|Constance Brisebois|     Consommateur|    São Paulo|       São Paulo|   Brésil|       NULL|AMÉRIQUE LATINE|   Sud|TEC-AC-10001830|         Technologie|         Accessoires|Enermax Router, E...|341.52|       2|        0|    13.64|       17.34 |                Moyenne|\n",
      "|                     11|MX-2013-134096|      27/09/2013|       01/10/2013|     Tarif normal| DP-13000|Constance Brisebois|     Consommateur|    São Paulo|       São Paulo|   Brésil|       NULL|AMÉRIQUE LATINE|   Sud|OFF-BI-10002075|Fournitures de bu...|           Classeurs|Wilson Jones Hole...| 12.06|       3|        0|     3.48|        1.13 |                Moyenne|\n",
      "|                     12|MX-2013-156335|      05/03/2013|       12/03/2013|     Tarif normal| TB-21250|   Tristan Perrault|     Consommateur|      Managua|         Managua|Nicaragua|       NULL|AMÉRIQUE LATINE|Centre|OFF-FA-10002526|Fournitures de bu...|Éléments de fixation|Accos Staples, 12...| 20.76|       3|        0|     9.54|        0.65 |                Moyenne|\n",
      "|                     13|MX-2013-156335|      05/03/2013|       12/03/2013|     Tarif normal| TB-21250|   Tristan Perrault|     Consommateur|      Managua|         Managua|Nicaragua|       NULL|AMÉRIQUE LATINE|Centre|FUR-CH-10002846|            Mobilier|             Chaises|Hon Steel Folding...|210.64|       4|        0|    50.48|       16.07 |                Moyenne|\n",
      "|                     14|MX-2014-121923|      24/09/2014|       01/10/2014|     Tarif normal| PK-18910|       Pépin Duffet|Bureau à domicile|      Managua|         Managua|Nicaragua|       NULL|AMÉRIQUE LATINE|Centre|OFF-EN-10004100|Fournitures de bu...|          Enveloppes|Kraft Mailers, Se...|  80.1|       3|        0|    37.62|        8.86 |                 Faible|\n",
      "|                     15|MX-2014-135706|      18/10/2014|       23/10/2014|     Tarif normal| JK-15625|      Henry Mazuret|     Consommateur|     Brasília|Federal District|   Brésil|       NULL|AMÉRIQUE LATINE|   Sud|OFF-AR-10003914|Fournitures de bu...|                 Art|Stanley Canvas, E...|132.64|       4|        0|    35.76|        6.20 |                Moyenne|\n",
      "|                     16|MX-2014-135706|      18/10/2014|       23/10/2014|     Tarif normal| JK-15625|      Henry Mazuret|     Consommateur|     Brasília|Federal District|   Brésil|       NULL|AMÉRIQUE LATINE|   Sud|OFF-FA-10000038|Fournitures de bu...|Éléments de fixation|Advantus Clamps, ...| 12.94|       1|        0|     1.02|        0.46 |                Moyenne|\n",
      "|                     17|US-2013-126655|      26/06/2013|       01/07/2013|     Tarif normal| HE-14800|    Galatée LaGarde|       Entreprise|San Miguelito|          Panama|   Panama|       NULL|AMÉRIQUE LATINE|Centre|OFF-EN-10000761|Fournitures de bu...|          Enveloppes|Jiffy Peel and Se...| 18.84|       2|      0.4|     -6.6|        1.60 |                Moyenne|\n",
      "|                     18|US-2013-126655|      26/06/2013|       01/07/2013|     Tarif normal| HE-14800|    Galatée LaGarde|       Entreprise|San Miguelito|          Panama|   Panama|       NULL|AMÉRIQUE LATINE|Centre|FUR-FU-10003066|            Mobilier|             Meubles|Deflect-O Frame, ...|308.28|       7|      0.4|   -149.1|       27.77 |                Moyenne|\n",
      "|                     19|US-2013-126655|      26/06/2013|       01/07/2013|     Tarif normal| HE-14800|    Galatée LaGarde|       Entreprise|San Miguelito|          Panama|   Panama|       NULL|AMÉRIQUE LATINE|Centre|OFF-EN-10000075|Fournitures de bu...|          Enveloppes|GlobeWeis Interof...|40.176|       2|      0.4|   -6.064|        2.14 |                Moyenne|\n",
      "|                     20|US-2013-126655|      26/06/2013|       01/07/2013|     Tarif normal| HE-14800|    Galatée LaGarde|       Entreprise|San Miguelito|          Panama|   Panama|       NULL|AMÉRIQUE LATINE|Centre|OFF-EN-10002226|Fournitures de bu...|          Enveloppes|Jiffy Clasp Envel...| 8.784|       3|      0.4|   -4.836|        0.38 |                Moyenne|\n",
      "+-----------------------+--------------+----------------+-----------------+-----------------+---------+-------------------+-----------------+-------------+----------------+---------+-----------+---------------+------+---------------+--------------------+--------------------+--------------------+------+--------+---------+---------+-------------+-----------------------+\n",
      "only showing top 20 rows\n",
      "\n"
     ]
    }
   ],
   "source": [
    "df.show()"
   ]
  },
  {
   "cell_type": "code",
   "execution_count": 122,
   "metadata": {},
   "outputs": [],
   "source": [
    "from pyspark.sql.functions import to_date"
   ]
  },
  {
   "cell_type": "code",
   "execution_count": 123,
   "metadata": {},
   "outputs": [],
   "source": [
    "df = df.withColumn(\"Identifiant de la ligne\", col(\"Identifiant de la ligne\").cast(IntegerType()))\n",
    "df = df.withColumn(\"Date de commande\", to_date(col(\"Date de commande\"), \"yyyy-MM-dd\"))\n",
    "df = df.withColumn(\"Date d'expédition\", to_date(col(\"Date d'expédition\"), \"yyyy-MM-dd\"))\n",
    "df = df.withColumn(\"Ventes\", col(\"Ventes\").cast(FloatType()))\n",
    "df = df.withColumn(\"Quantité\", col(\"Quantité\").cast(IntegerType()))\n",
    "df = df.withColumn(\"Réduction\", col(\"Réduction\").cast(FloatType()))\n",
    "df = df.withColumn(\"Bénéfices\", col(\"Bénéfices\").cast(FloatType()))\n",
    "df = df.withColumn(\"Frais de port\", col(\"Frais de port\").cast(FloatType()))"
   ]
  },
  {
   "cell_type": "code",
   "execution_count": 124,
   "metadata": {},
   "outputs": [
    {
     "name": "stdout",
     "output_type": "stream",
     "text": [
      "root\n",
      " |-- Identifiant de la ligne: integer (nullable = true)\n",
      " |-- ID commande: string (nullable = true)\n",
      " |-- Date de commande: date (nullable = true)\n",
      " |-- Date d'expédition: date (nullable = true)\n",
      " |-- Mode d'expedition: string (nullable = true)\n",
      " |-- ID client: string (nullable = true)\n",
      " |-- Nom du client: string (nullable = true)\n",
      " |-- Segment: string (nullable = true)\n",
      " |-- Ville: string (nullable = true)\n",
      " |-- Etat: string (nullable = true)\n",
      " |-- Pays: string (nullable = true)\n",
      " |-- Code postal: string (nullable = true)\n",
      " |-- Marché: string (nullable = true)\n",
      " |-- Région: string (nullable = true)\n",
      " |-- ID produit: string (nullable = true)\n",
      " |-- Catégorie: string (nullable = true)\n",
      " |-- Sous-catégorie: string (nullable = true)\n",
      " |-- Nom du produit: string (nullable = true)\n",
      " |-- Ventes: float (nullable = true)\n",
      " |-- Quantité: integer (nullable = true)\n",
      " |-- Réduction: float (nullable = true)\n",
      " |-- Bénéfices: float (nullable = true)\n",
      " |-- Frais de port: float (nullable = true)\n",
      " |-- Priorité de la commande: string (nullable = true)\n",
      "\n"
     ]
    }
   ],
   "source": [
    "df.printSchema()"
   ]
  },
  {
   "cell_type": "code",
   "execution_count": 125,
   "metadata": {},
   "outputs": [
    {
     "name": "stdout",
     "output_type": "stream",
     "text": [
      "+-------+-----------------------+------------+-----------------+---------+-----------------+-----------------+--------------------+------+-----------+----------------+---------------+-------+----------------+--------------------+--------------+--------------------+------------------+------------------+-------------------+------------------+-----------------+-----------------------+\n",
      "|summary|Identifiant de la ligne| ID commande|Mode d'expedition|ID client|    Nom du client|          Segment|               Ville|  Etat|       Pays|     Code postal|         Marché| Région|      ID produit|           Catégorie|Sous-catégorie|      Nom du produit|            Ventes|          Quantité|          Réduction|         Bénéfices|    Frais de port|Priorité de la commande|\n",
      "+-------+-----------------------+------------+-----------------+---------+-----------------+-----------------+--------------------+------+-----------+----------------+---------------+-------+----------------+--------------------+--------------+--------------------+------------------+------------------+-------------------+------------------+-----------------+-----------------------+\n",
      "|  count|                  51290|       51290|            51290|    51290|            51290|            51290|               51290| 51290|      51290|            9994|          51290|  51290|           51290|               51290|         51290|               51290|             51290|             51290|              51290|             51290|            51269|                  51290|\n",
      "|   mean|                25645.5|        NULL|             NULL|     NULL|             NULL|             NULL|                NULL|  NULL|       NULL|55190.3794276566|           NULL|   NULL|            NULL|                NULL|          NULL|                NULL|246.49058091772605|3.4765451355039967|0.14290754686433024| 28.61098245529444|26.39425091097822|                   NULL|\n",
      "| stddev|      14806.29199023172|        NULL|             NULL|     NULL|             NULL|             NULL|                NULL|  NULL|       NULL|32063.6933503645|           NULL|   NULL|            NULL|                NULL|          NULL|                NULL|  487.565359420668|2.2787663138033727| 0.2122799333089437|174.34097195438906|57.46354731351151|                   NULL|\n",
      "|    min|                      1|AE-2011-9160|              J+2| AA-10315|    Adeline Houde|Bureau à domicile|              Aachen|'Ajman|Afghanistan|           05408|AMÉRIQUE LATINE|Afrique|FUR-ADV-10000002|Fournitures de bu...|   Accessoires|\"\"\"While you Were...|             0.444|                 1|                0.0|         -6599.978|              0.0|               Critique|\n",
      "|    max|                  51290|ZI-2014-9650|     Tarif normal| ZD-21925|Évrard Villeneuve|       Entreprise|Águas Lindas de G...|Žilina|   Éthiopie|           99301|     États-Unis|    Sud|TEC-STA-10004927|         Technologie|    Étiquettes|netTALK DUO VoIP ...|          22638.48|                14|               0.85|          8399.976|           987.41|                Moyenne|\n",
      "+-------+-----------------------+------------+-----------------+---------+-----------------+-----------------+--------------------+------+-----------+----------------+---------------+-------+----------------+--------------------+--------------+--------------------+------------------+------------------+-------------------+------------------+-----------------+-----------------------+\n",
      "\n"
     ]
    }
   ],
   "source": [
    "df.describe().show()"
   ]
  },
  {
   "cell_type": "markdown",
   "metadata": {},
   "source": [
    "## Création des table dimensions"
   ]
  },
  {
   "cell_type": "code",
   "execution_count": 61,
   "metadata": {},
   "outputs": [],
   "source": [
    "# Dimension Produit\n",
    "dim_produit_df = df.select(\"ID produit\", \"Nom du produit\", \"Sous-catégorie\").distinct()"
   ]
  },
  {
   "cell_type": "code",
   "execution_count": 62,
   "metadata": {},
   "outputs": [
    {
     "name": "stdout",
     "output_type": "stream",
     "text": [
      "+---------------+--------------------+--------------------+\n",
      "|     ID produit|      Nom du produit|      Sous-catégorie|\n",
      "+---------------+--------------------+--------------------+\n",
      "|OFF-LA-10001038|Smead Legal Exhib...|          Étiquettes|\n",
      "|FUR-TA-10004840|Hon Conference Ta...|              Tables|\n",
      "|OFF-LA-10002015|Hon Round Labels,...|          Étiquettes|\n",
      "|TEC-CO-10004521|HP Personal Copie...|       Photocopieurs|\n",
      "|OFF-ST-10002632|Smead Shelving, I...|            Stockage|\n",
      "|FUR-TA-10003597|Bevis Wood Table,...|              Tables|\n",
      "|TEC-AC-10004752|Memorex Keyboard,...|         Accessoires|\n",
      "|OFF-ST-10000560|Fellowes Trays, I...|            Stockage|\n",
      "|OFF-SU-10004662|Elite Scissors, S...|         Fournitures|\n",
      "|OFF-AP-10004245| Hoover Stove, Black|           Appareils|\n",
      "|TEC-AC-10001355|Memorex Router, P...|         Accessoires|\n",
      "|OFF-SU-10000153|Acme Shears, High...|         Fournitures|\n",
      "|TEC-AC-10000271|Enermax Router, E...|         Accessoires|\n",
      "|FUR-BO-10002574|Bush Corner Shelv...|       Bibliothèques|\n",
      "|OFF-ST-10001818|   Smead Trays, Blue|            Stockage|\n",
      "|OFF-ST-10000695|Rogers Lockers, W...|            Stockage|\n",
      "|OFF-BI-10001621|Cardinal Binding ...|           Classeurs|\n",
      "|TEC-AC-10004997|Belkin Memory Car...|         Accessoires|\n",
      "|OFF-AR-10000724|Boston Pens, Fluo...|                 Art|\n",
      "|OFF-FA-10001097|Accos Paper Clips...|Éléments de fixation|\n",
      "+---------------+--------------------+--------------------+\n",
      "only showing top 20 rows\n",
      "\n"
     ]
    }
   ],
   "source": [
    "dim_produit_df.show()"
   ]
  },
  {
   "cell_type": "code",
   "execution_count": 86,
   "metadata": {},
   "outputs": [
    {
     "data": {
      "text/plain": [
       "10768"
      ]
     },
     "execution_count": 86,
     "metadata": {},
     "output_type": "execute_result"
    }
   ],
   "source": [
    "dim_produit_df.count()"
   ]
  },
  {
   "cell_type": "code",
   "execution_count": 65,
   "metadata": {},
   "outputs": [],
   "source": [
    "# Dimension client\n",
    "dim_client_df = df.select(\"ID client\", \"Nom du client\", \"Pays\", \"Région\", \"Segment\", \"Ville\").distinct()"
   ]
  },
  {
   "cell_type": "code",
   "execution_count": 66,
   "metadata": {},
   "outputs": [
    {
     "name": "stdout",
     "output_type": "stream",
     "text": [
      "+---------+--------------------+--------------------+-------+-----------------+--------------------+\n",
      "|ID client|       Nom du client|                Pays| Région|          Segment|               Ville|\n",
      "+---------+--------------------+--------------------+-------+-----------------+--------------------+\n",
      "| AG-10300|    Albertine Garcia|             Mexique|   Nord|       Entreprise|              Juárez|\n",
      "| CT-11995|      Bruno Courtois|            Colombie|    Sud|     Consommateur|              Bogotá|\n",
      "| JG-15310|  Guillemine LaGarde|                Cuba|Caraïbe|       Entreprise|         Santa Clara|\n",
      "| DC-13285|       David Arcouet|              Brésil|    Sud|     Consommateur|              Jurema|\n",
      "| EB-13975|   Étiamble Chicoine|République Domini...|Caraïbe|       Entreprise|       Santo Domingo|\n",
      "| SS-20410|     Sidney Routhier|            Équateur|    Sud|     Consommateur|Santo Domingo de ...|\n",
      "| LH-16750|        Lydie Durand|         El Salvador| Centre|     Consommateur|        San Salvador|\n",
      "| KT-16465|    Laurence Gervais|              Brésil|    Sud|     Consommateur|              Recife|\n",
      "| TG-21640|     Vincent Charpie|              Brésil|    Sud|     Consommateur|São Bernardo do C...|\n",
      "| TS-21340|  Valentine Perrault|         El Salvador| Centre|     Consommateur|        San Salvador|\n",
      "| MG-17680|  Mélisande Boisvert|République Domini...|Caraïbe|Bureau à domicile|       Santo Domingo|\n",
      "| EH-14125|Fabienne Desaulniers|            Honduras| Centre|Bureau à domicile|            La Ceiba|\n",
      "| MC-17635|   Maurice Josseaume|           Nicaragua| Centre|       Entreprise|             Managua|\n",
      "| JE-15715|   Hortense Fongemie|République Domini...|Caraïbe|     Consommateur|Santiago de los C...|\n",
      "| CA-12310|     Carol Rochefort|           Guatemala| Centre|       Entreprise|       Huehuetenango|\n",
      "| DW-13540|Dominique Barrientos|         El Salvador| Centre|     Consommateur|        San Salvador|\n",
      "| RB-19330|  Prunella Patenaude|           Argentine|    Sud|     Consommateur|             Córdoba|\n",
      "| GH-14410|   Florent Deschênes|              Brésil|    Sud|Bureau à domicile|                 Jaú|\n",
      "| NS-18640|    Panxita Charette|           Guatemala| Centre|       Entreprise|               Mixco|\n",
      "| TB-21355|    Vallis Cinq-Mars|             Mexique|   Nord|       Entreprise|            Monclova|\n",
      "+---------+--------------------+--------------------+-------+-----------------+--------------------+\n",
      "only showing top 20 rows\n",
      "\n"
     ]
    }
   ],
   "source": [
    "dim_client_df.show()"
   ]
  },
  {
   "cell_type": "code",
   "execution_count": 84,
   "metadata": {},
   "outputs": [
    {
     "data": {
      "text/plain": [
       "24956"
      ]
     },
     "execution_count": 84,
     "metadata": {},
     "output_type": "execute_result"
    }
   ],
   "source": [
    "dim_client_df.count()"
   ]
  },
  {
   "cell_type": "code",
   "execution_count": 73,
   "metadata": {},
   "outputs": [
    {
     "name": "stdout",
     "output_type": "stream",
     "text": [
      "root\n",
      " |-- Identifiant de la ligne: integer (nullable = true)\n",
      " |-- ID commande: string (nullable = true)\n",
      " |-- Date de commande: date (nullable = true)\n",
      " |-- Date d'expédition: date (nullable = true)\n",
      " |-- Mode d'expedition: string (nullable = true)\n",
      " |-- ID client: string (nullable = true)\n",
      " |-- Nom du client: string (nullable = true)\n",
      " |-- Segment: string (nullable = true)\n",
      " |-- Ville: string (nullable = true)\n",
      " |-- Etat: string (nullable = true)\n",
      " |-- Pays: string (nullable = true)\n",
      " |-- Code postal: string (nullable = true)\n",
      " |-- Marché: string (nullable = true)\n",
      " |-- Région: string (nullable = true)\n",
      " |-- ID produit: string (nullable = true)\n",
      " |-- Catégorie: string (nullable = true)\n",
      " |-- Sous-catégorie: string (nullable = true)\n",
      " |-- Nom du produit: string (nullable = true)\n",
      " |-- Ventes: float (nullable = true)\n",
      " |-- Quantité: integer (nullable = true)\n",
      " |-- Réduction: float (nullable = true)\n",
      " |-- Bénéfices: float (nullable = true)\n",
      " |-- Frais de port: float (nullable = true)\n",
      " |-- Priorité de la commande: string (nullable = true)\n",
      "\n"
     ]
    }
   ],
   "source": [
    "df.printSchema()"
   ]
  },
  {
   "cell_type": "code",
   "execution_count": 80,
   "metadata": {},
   "outputs": [],
   "source": [
    "from pyspark.sql import functions as F"
   ]
  },
  {
   "cell_type": "code",
   "execution_count": 81,
   "metadata": {},
   "outputs": [],
   "source": [
    "# Dimensions Achats\n",
    "dim_achats_df = df.groupBy(\"ID client\", \"ID commande\", 'Identifiant de la ligne', \"ID produit\", \"Priorité de la commande\") \\\n",
    "    .agg(\n",
    "        F.sum(\"Ventes\").alias(\"Montant des ventes\"),\n",
    "        F.sum(\"Bénéfices\").alias(\"Profit\"),\n",
    "        F.sum(\"Quantité\").alias(\"Quantité\"),\n",
    "        F.sum(\"Réduction\").alias(\"Remise\")\n",
    "    )"
   ]
  },
  {
   "cell_type": "code",
   "execution_count": 82,
   "metadata": {},
   "outputs": [
    {
     "name": "stdout",
     "output_type": "stream",
     "text": [
      "+---------+--------------+-----------------------+---------------+-----------------------+------------------+-------------------+--------+------+\n",
      "|ID client|   ID commande|Identifiant de la ligne|     ID produit|Priorité de la commande|Montant des ventes|             Profit|Quantité|Remise|\n",
      "+---------+--------------+-----------------------+---------------+-----------------------+------------------+-------------------+--------+------+\n",
      "| PB-19150|MX-2014-130666|                    306|OFF-EN-10002725|                Moyenne| 65.83999633789062| 15.119999885559082|       4|   0.0|\n",
      "| BG-11740|US-2012-110716|                    451|OFF-BI-10000517|                Moyenne| 33.29999923706055|   16.6200008392334|       3|   0.0|\n",
      "| CB-12535|MX-2012-140473|                    988|OFF-BI-10004177|                  Haute| 78.63999938964844|   33.7599983215332|       4|   0.0|\n",
      "| TC-21295|MX-2014-102995|                   1021|OFF-PA-10003708|                Moyenne| 59.52000045776367| 0.5400000214576721|       3|   0.0|\n",
      "| RD-19900|MX-2014-114195|                   1154|FUR-CH-10000892|                 Faible| 738.2880249023438|-166.15199279785156|       3|  NULL|\n",
      "| SW-20350|MX-2014-119620|                   1155|OFF-FA-10002427|                Moyenne| 26.81999969482422|0.23999999463558197|       3|   0.0|\n",
      "| DV-13045|MX-2013-140186|                   2044|TEC-CO-10003694|                Moyenne|   758.97900390625|  44.07899856567383|       3|  NULL|\n",
      "| JM-15580|MX-2013-141768|                   2123|OFF-BI-10000814|               Critique| 17.84000015258789|                3.0|       2|   0.0|\n",
      "| PJ-19015|US-2013-100020|                   2222|OFF-LA-10000845|                Moyenne| 5.004000186920166| 0.3840000033378601|       3|  NULL|\n",
      "| LS-16975|MX-2013-108231|                   2544|OFF-EN-10004410|                  Haute|54.599998474121094|  21.84000015258789|       2|   0.0|\n",
      "| AG-10390|MX-2012-151211|                   2605|OFF-EN-10004186|                Moyenne| 33.63999938964844| 14.800000190734863|       1|   0.0|\n",
      "| FH-14275|MX-2013-121048|                   2697|OFF-LA-10004320|                Moyenne|14.880000114440918|  2.200000047683716|       2|   0.0|\n",
      "| PR-18880|US-2014-129091|                   2785|TEC-MA-10001411|                Moyenne| 18.56399917602539|-23.516000747680664|       2|  NULL|\n",
      "| JK-15625|MX-2012-156937|                   3096|OFF-BI-10002222|                  Haute|15.279999732971191| 1.9600000381469727|       2|   0.0|\n",
      "| GT-14635|US-2013-122903|                   3244|TEC-AC-10004951|                Moyenne|51.959999084472656|-3.5399999618530273|       5|  NULL|\n",
      "| BM-11140|MX-2013-137855|                   3316|FUR-FU-10003297|                 Faible|217.02000427246094|               19.5|       3|   0.0|\n",
      "| RR-19525|MX-2014-151771|                   3521|FUR-CH-10004338|                  Haute| 90.30000305175781| 3.5999999046325684|       3|   0.0|\n",
      "| BK-11260|MX-2011-141131|                   3835|FUR-CH-10003109|                Moyenne|286.32000732421875|  65.81999969482422|       3|   0.0|\n",
      "| MH-18115|US-2013-107104|                   4089|OFF-PA-10002033|                Moyenne|  63.0359992980957| -5.303999900817871|       3|  NULL|\n",
      "| AS-10240|MX-2011-108504|                   4223|TEC-CO-10002504|                Moyenne| 348.5415344238281| 166.90151977539062|       2|  NULL|\n",
      "+---------+--------------+-----------------------+---------------+-----------------------+------------------+-------------------+--------+------+\n",
      "only showing top 20 rows\n",
      "\n"
     ]
    }
   ],
   "source": [
    "dim_achats_df.show()"
   ]
  },
  {
   "cell_type": "code",
   "execution_count": 87,
   "metadata": {},
   "outputs": [
    {
     "data": {
      "text/plain": [
       "51290"
      ]
     },
     "execution_count": 87,
     "metadata": {},
     "output_type": "execute_result"
    }
   ],
   "source": [
    "dim_achats_df.count()"
   ]
  },
  {
   "cell_type": "code",
   "execution_count": null,
   "metadata": {},
   "outputs": [],
   "source": [
    "from pyspark.sql.functions import year, month, weekofyear"
   ]
  },
  {
   "cell_type": "code",
   "execution_count": null,
   "metadata": {},
   "outputs": [],
   "source": [
    "dim_calendrier_commande_df = df.select(year(df['Date de commande']).alias(\"Année\"),\n",
    "                                       \"Date de commande\",\n",
    "                                       month(df['Date de commande']).alias(\"Mois\"),\n",
    "                                       weekofyear(df['Date de commande']).alias(\"Semaine de l'année\"))"
   ]
  },
  {
   "cell_type": "code",
   "execution_count": 96,
   "metadata": {},
   "outputs": [],
   "source": [
    "from pyspark.sql.functions import min, max"
   ]
  }
 ],
 "metadata": {
  "kernelspec": {
   "display_name": "pyspark_env",
   "language": "python",
   "name": "python3"
  },
  "language_info": {
   "codemirror_mode": {
    "name": "ipython",
    "version": 3
   },
   "file_extension": ".py",
   "mimetype": "text/x-python",
   "name": "python",
   "nbconvert_exporter": "python",
   "pygments_lexer": "ipython3",
   "version": "3.13.1"
  }
 },
 "nbformat": 4,
 "nbformat_minor": 2
}
