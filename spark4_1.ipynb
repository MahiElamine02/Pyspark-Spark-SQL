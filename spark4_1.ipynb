{
 "cells": [
  {
   "cell_type": "code",
   "execution_count": 1,
   "metadata": {},
   "outputs": [],
   "source": [
    "from pyspark.sql import SparkSession"
   ]
  },
  {
   "cell_type": "code",
   "execution_count": 2,
   "metadata": {},
   "outputs": [],
   "source": [
    "spark = SparkSession.builder.appName(\"ML_spark_reg2\").getOrCreate()"
   ]
  },
  {
   "cell_type": "code",
   "execution_count": 3,
   "metadata": {},
   "outputs": [
    {
     "data": {
      "text/html": [
       "\n",
       "            <div>\n",
       "                <p><b>SparkSession - in-memory</b></p>\n",
       "                \n",
       "        <div>\n",
       "            <p><b>SparkContext</b></p>\n",
       "\n",
       "            <p><a href=\"http://10.100.23.147:4042\">Spark UI</a></p>\n",
       "\n",
       "            <dl>\n",
       "              <dt>Version</dt>\n",
       "                <dd><code>v3.5.4</code></dd>\n",
       "              <dt>Master</dt>\n",
       "                <dd><code>local[*]</code></dd>\n",
       "              <dt>AppName</dt>\n",
       "                <dd><code>ML_spark_reg2</code></dd>\n",
       "            </dl>\n",
       "        </div>\n",
       "        \n",
       "            </div>\n",
       "        "
      ],
      "text/plain": [
       "<pyspark.sql.session.SparkSession at 0x1bdcc879be0>"
      ]
     },
     "execution_count": 3,
     "metadata": {},
     "output_type": "execute_result"
    }
   ],
   "source": [
    "spark"
   ]
  },
  {
   "cell_type": "code",
   "execution_count": 4,
   "metadata": {},
   "outputs": [],
   "source": [
    "df_cruise = spark.read.csv(\"cruise_ship_info.csv\", header=True, inferSchema=True)"
   ]
  },
  {
   "cell_type": "code",
   "execution_count": 5,
   "metadata": {},
   "outputs": [
    {
     "name": "stdout",
     "output_type": "stream",
     "text": [
      "+-----------+-----------+---+------------------+----------+------+------+-----------------+----+\n",
      "|  Ship_name|Cruise_line|Age|           Tonnage|passengers|length|cabins|passenger_density|crew|\n",
      "+-----------+-----------+---+------------------+----------+------+------+-----------------+----+\n",
      "|    Journey|    Azamara|  6|30.276999999999997|      6.94|  5.94|  3.55|            42.64|3.55|\n",
      "|      Quest|    Azamara|  6|30.276999999999997|      6.94|  5.94|  3.55|            42.64|3.55|\n",
      "|Celebration|   Carnival| 26|            47.262|     14.86|  7.22|  7.43|             31.8| 6.7|\n",
      "|   Conquest|   Carnival| 11|             110.0|     29.74|  9.53| 14.88|            36.99|19.1|\n",
      "|    Destiny|   Carnival| 17|           101.353|     26.42|  8.92| 13.21|            38.36|10.0|\n",
      "|    Ecstasy|   Carnival| 22|            70.367|     20.52|  8.55|  10.2|            34.29| 9.2|\n",
      "|    Elation|   Carnival| 15|            70.367|     20.52|  8.55|  10.2|            34.29| 9.2|\n",
      "|    Fantasy|   Carnival| 23|            70.367|     20.56|  8.55| 10.22|            34.23| 9.2|\n",
      "|Fascination|   Carnival| 19|            70.367|     20.52|  8.55|  10.2|            34.29| 9.2|\n",
      "|    Freedom|   Carnival|  6|110.23899999999999|      37.0|  9.51| 14.87|            29.79|11.5|\n",
      "|      Glory|   Carnival| 10|             110.0|     29.74|  9.51| 14.87|            36.99|11.6|\n",
      "|    Holiday|   Carnival| 28|            46.052|     14.52|  7.27|  7.26|            31.72| 6.6|\n",
      "|Imagination|   Carnival| 18|            70.367|     20.52|  8.55|  10.2|            34.29| 9.2|\n",
      "|Inspiration|   Carnival| 17|            70.367|     20.52|  8.55|  10.2|            34.29| 9.2|\n",
      "|     Legend|   Carnival| 11|              86.0|     21.24|  9.63| 10.62|            40.49| 9.3|\n",
      "|   Liberty*|   Carnival|  8|             110.0|     29.74|  9.51| 14.87|            36.99|11.6|\n",
      "|    Miracle|   Carnival|  9|              88.5|     21.24|  9.63| 10.62|            41.67|10.3|\n",
      "|   Paradise|   Carnival| 15|            70.367|     20.52|  8.55|  10.2|            34.29| 9.2|\n",
      "|      Pride|   Carnival| 12|              88.5|     21.24|  9.63| 11.62|            41.67| 9.3|\n",
      "|  Sensation|   Carnival| 20|            70.367|     20.52|  8.55|  10.2|            34.29| 9.2|\n",
      "+-----------+-----------+---+------------------+----------+------+------+-----------------+----+\n",
      "only showing top 20 rows\n",
      "\n"
     ]
    }
   ],
   "source": [
    "df_cruise.show()"
   ]
  },
  {
   "cell_type": "code",
   "execution_count": 6,
   "metadata": {},
   "outputs": [
    {
     "name": "stdout",
     "output_type": "stream",
     "text": [
      "root\n",
      " |-- Ship_name: string (nullable = true)\n",
      " |-- Cruise_line: string (nullable = true)\n",
      " |-- Age: integer (nullable = true)\n",
      " |-- Tonnage: double (nullable = true)\n",
      " |-- passengers: double (nullable = true)\n",
      " |-- length: double (nullable = true)\n",
      " |-- cabins: double (nullable = true)\n",
      " |-- passenger_density: double (nullable = true)\n",
      " |-- crew: double (nullable = true)\n",
      "\n"
     ]
    }
   ],
   "source": [
    "df_cruise.printSchema()"
   ]
  },
  {
   "cell_type": "code",
   "execution_count": 7,
   "metadata": {},
   "outputs": [
    {
     "name": "stdout",
     "output_type": "stream",
     "text": [
      "+-----------+-----------------+\n",
      "|Cruise_line|Cruise_line_index|\n",
      "+-----------+-----------------+\n",
      "|    Azamara|             16.0|\n",
      "|    Azamara|             16.0|\n",
      "|   Carnival|              1.0|\n",
      "|   Carnival|              1.0|\n",
      "|   Carnival|              1.0|\n",
      "|   Carnival|              1.0|\n",
      "|   Carnival|              1.0|\n",
      "|   Carnival|              1.0|\n",
      "|   Carnival|              1.0|\n",
      "|   Carnival|              1.0|\n",
      "|   Carnival|              1.0|\n",
      "|   Carnival|              1.0|\n",
      "|   Carnival|              1.0|\n",
      "|   Carnival|              1.0|\n",
      "|   Carnival|              1.0|\n",
      "|   Carnival|              1.0|\n",
      "|   Carnival|              1.0|\n",
      "|   Carnival|              1.0|\n",
      "|   Carnival|              1.0|\n",
      "|   Carnival|              1.0|\n",
      "+-----------+-----------------+\n",
      "only showing top 20 rows\n",
      "\n"
     ]
    }
   ],
   "source": [
    "from pyspark.ml.feature import StringIndexer\n",
    "\n",
    "# Création de l'indexeur\n",
    "indexer = StringIndexer(inputCol=\"Cruise_line\", outputCol=\"Cruise_line_index\")\n",
    "\n",
    "# Appliquer la transformation\n",
    "df_indexed = indexer.fit(df_cruise).transform(df_cruise)\n",
    "\n",
    "# Afficher le résultat\n",
    "df_indexed.select(\"Cruise_line\", \"Cruise_line_index\").show()"
   ]
  },
  {
   "cell_type": "code",
   "execution_count": 8,
   "metadata": {},
   "outputs": [],
   "source": [
    "df_cruise = df_cruise.join(df_indexed.select(\"Cruise_line\", \"Cruise_line_index\"), on=\"Cruise_line\", how=\"left\")"
   ]
  },
  {
   "cell_type": "code",
   "execution_count": null,
   "metadata": {},
   "outputs": [],
   "source": [
    "#df_cruise = indexer.fit(df_cruise).transform(df_cruise)"
   ]
  },
  {
   "cell_type": "code",
   "execution_count": 9,
   "metadata": {},
   "outputs": [
    {
     "name": "stdout",
     "output_type": "stream",
     "text": [
      "+-----------+-----------+---+------------------+----------+------+------+-----------------+----+-----------------+\n",
      "|Cruise_line|  Ship_name|Age|           Tonnage|passengers|length|cabins|passenger_density|crew|Cruise_line_index|\n",
      "+-----------+-----------+---+------------------+----------+------+------+-----------------+----+-----------------+\n",
      "|    Azamara|    Journey|  6|30.276999999999997|      6.94|  5.94|  3.55|            42.64|3.55|             16.0|\n",
      "|    Azamara|    Journey|  6|30.276999999999997|      6.94|  5.94|  3.55|            42.64|3.55|             16.0|\n",
      "|    Azamara|      Quest|  6|30.276999999999997|      6.94|  5.94|  3.55|            42.64|3.55|             16.0|\n",
      "|    Azamara|      Quest|  6|30.276999999999997|      6.94|  5.94|  3.55|            42.64|3.55|             16.0|\n",
      "|   Carnival|Celebration| 26|            47.262|     14.86|  7.22|  7.43|             31.8| 6.7|              1.0|\n",
      "|   Carnival|Celebration| 26|            47.262|     14.86|  7.22|  7.43|             31.8| 6.7|              1.0|\n",
      "|   Carnival|Celebration| 26|            47.262|     14.86|  7.22|  7.43|             31.8| 6.7|              1.0|\n",
      "|   Carnival|Celebration| 26|            47.262|     14.86|  7.22|  7.43|             31.8| 6.7|              1.0|\n",
      "|   Carnival|Celebration| 26|            47.262|     14.86|  7.22|  7.43|             31.8| 6.7|              1.0|\n",
      "|   Carnival|Celebration| 26|            47.262|     14.86|  7.22|  7.43|             31.8| 6.7|              1.0|\n",
      "|   Carnival|Celebration| 26|            47.262|     14.86|  7.22|  7.43|             31.8| 6.7|              1.0|\n",
      "|   Carnival|Celebration| 26|            47.262|     14.86|  7.22|  7.43|             31.8| 6.7|              1.0|\n",
      "|   Carnival|Celebration| 26|            47.262|     14.86|  7.22|  7.43|             31.8| 6.7|              1.0|\n",
      "|   Carnival|Celebration| 26|            47.262|     14.86|  7.22|  7.43|             31.8| 6.7|              1.0|\n",
      "|   Carnival|Celebration| 26|            47.262|     14.86|  7.22|  7.43|             31.8| 6.7|              1.0|\n",
      "|   Carnival|Celebration| 26|            47.262|     14.86|  7.22|  7.43|             31.8| 6.7|              1.0|\n",
      "|   Carnival|Celebration| 26|            47.262|     14.86|  7.22|  7.43|             31.8| 6.7|              1.0|\n",
      "|   Carnival|Celebration| 26|            47.262|     14.86|  7.22|  7.43|             31.8| 6.7|              1.0|\n",
      "|   Carnival|Celebration| 26|            47.262|     14.86|  7.22|  7.43|             31.8| 6.7|              1.0|\n",
      "|   Carnival|Celebration| 26|            47.262|     14.86|  7.22|  7.43|             31.8| 6.7|              1.0|\n",
      "+-----------+-----------+---+------------------+----------+------+------+-----------------+----+-----------------+\n",
      "only showing top 20 rows\n",
      "\n"
     ]
    }
   ],
   "source": [
    "df_cruise.show()"
   ]
  },
  {
   "cell_type": "code",
   "execution_count": 10,
   "metadata": {},
   "outputs": [],
   "source": [
    "from pyspark.ml.regression import LinearRegression"
   ]
  },
  {
   "cell_type": "code",
   "execution_count": 11,
   "metadata": {},
   "outputs": [],
   "source": [
    "from pyspark.ml.linalg import Vectors\n",
    "from pyspark.ml.feature import VectorAssembler"
   ]
  },
  {
   "cell_type": "code",
   "execution_count": 12,
   "metadata": {},
   "outputs": [
    {
     "data": {
      "text/plain": [
       "['Cruise_line',\n",
       " 'Ship_name',\n",
       " 'Age',\n",
       " 'Tonnage',\n",
       " 'passengers',\n",
       " 'length',\n",
       " 'cabins',\n",
       " 'passenger_density',\n",
       " 'crew',\n",
       " 'Cruise_line_index']"
      ]
     },
     "execution_count": 12,
     "metadata": {},
     "output_type": "execute_result"
    }
   ],
   "source": [
    "df_cruise.columns"
   ]
  },
  {
   "cell_type": "code",
   "execution_count": 13,
   "metadata": {},
   "outputs": [],
   "source": [
    "assembler = VectorAssembler(\n",
    "    inputCols=['Cruise_line_index','Age','Tonnage','passengers','length','cabins','passenger_density'],\n",
    "    outputCol= \"features\")"
   ]
  },
  {
   "cell_type": "code",
   "execution_count": 14,
   "metadata": {},
   "outputs": [],
   "source": [
    "output = assembler.transform(df_cruise)"
   ]
  },
  {
   "cell_type": "code",
   "execution_count": 15,
   "metadata": {},
   "outputs": [
    {
     "name": "stdout",
     "output_type": "stream",
     "text": [
      "+--------------------+\n",
      "|            features|\n",
      "+--------------------+\n",
      "|[16.0,6.0,30.2769...|\n",
      "|[16.0,6.0,30.2769...|\n",
      "|[16.0,6.0,30.2769...|\n",
      "|[16.0,6.0,30.2769...|\n",
      "|[1.0,26.0,47.262,...|\n",
      "|[1.0,26.0,47.262,...|\n",
      "|[1.0,26.0,47.262,...|\n",
      "|[1.0,26.0,47.262,...|\n",
      "|[1.0,26.0,47.262,...|\n",
      "|[1.0,26.0,47.262,...|\n",
      "|[1.0,26.0,47.262,...|\n",
      "|[1.0,26.0,47.262,...|\n",
      "|[1.0,26.0,47.262,...|\n",
      "|[1.0,26.0,47.262,...|\n",
      "|[1.0,26.0,47.262,...|\n",
      "|[1.0,26.0,47.262,...|\n",
      "|[1.0,26.0,47.262,...|\n",
      "|[1.0,26.0,47.262,...|\n",
      "|[1.0,26.0,47.262,...|\n",
      "|[1.0,26.0,47.262,...|\n",
      "+--------------------+\n",
      "only showing top 20 rows\n",
      "\n"
     ]
    }
   ],
   "source": [
    "output.select(\"features\").show()"
   ]
  },
  {
   "cell_type": "code",
   "execution_count": 16,
   "metadata": {},
   "outputs": [],
   "source": [
    "final_df_df_cruise = output[['features', \"crew\"]]"
   ]
  },
  {
   "cell_type": "code",
   "execution_count": 17,
   "metadata": {},
   "outputs": [
    {
     "name": "stdout",
     "output_type": "stream",
     "text": [
      "+--------------------+----+\n",
      "|            features|crew|\n",
      "+--------------------+----+\n",
      "|[16.0,6.0,30.2769...|3.55|\n",
      "|[16.0,6.0,30.2769...|3.55|\n",
      "|[16.0,6.0,30.2769...|3.55|\n",
      "|[16.0,6.0,30.2769...|3.55|\n",
      "|[1.0,26.0,47.262,...| 6.7|\n",
      "|[1.0,26.0,47.262,...| 6.7|\n",
      "|[1.0,26.0,47.262,...| 6.7|\n",
      "|[1.0,26.0,47.262,...| 6.7|\n",
      "|[1.0,26.0,47.262,...| 6.7|\n",
      "|[1.0,26.0,47.262,...| 6.7|\n",
      "|[1.0,26.0,47.262,...| 6.7|\n",
      "|[1.0,26.0,47.262,...| 6.7|\n",
      "|[1.0,26.0,47.262,...| 6.7|\n",
      "|[1.0,26.0,47.262,...| 6.7|\n",
      "|[1.0,26.0,47.262,...| 6.7|\n",
      "|[1.0,26.0,47.262,...| 6.7|\n",
      "|[1.0,26.0,47.262,...| 6.7|\n",
      "|[1.0,26.0,47.262,...| 6.7|\n",
      "|[1.0,26.0,47.262,...| 6.7|\n",
      "|[1.0,26.0,47.262,...| 6.7|\n",
      "+--------------------+----+\n",
      "only showing top 20 rows\n",
      "\n"
     ]
    }
   ],
   "source": [
    "final_df_df_cruise.show()"
   ]
  },
  {
   "cell_type": "code",
   "execution_count": 18,
   "metadata": {},
   "outputs": [],
   "source": [
    "train_data, test_data = final_df_df_cruise.randomSplit([0.7,0.3])"
   ]
  },
  {
   "cell_type": "code",
   "execution_count": 19,
   "metadata": {},
   "outputs": [
    {
     "name": "stdout",
     "output_type": "stream",
     "text": [
      "+-------+-----------------+\n",
      "|summary|             crew|\n",
      "+-------+-----------------+\n",
      "|  count|             1473|\n",
      "|   mean|8.780353021045476|\n",
      "| stddev| 3.28032205475319|\n",
      "|    min|             0.59|\n",
      "|    max|             21.0|\n",
      "+-------+-----------------+\n",
      "\n"
     ]
    }
   ],
   "source": [
    "train_data.describe().show()"
   ]
  },
  {
   "cell_type": "code",
   "execution_count": 20,
   "metadata": {},
   "outputs": [
    {
     "name": "stdout",
     "output_type": "stream",
     "text": [
      "+-------+------------------+\n",
      "|summary|              crew|\n",
      "+-------+------------------+\n",
      "|  count|               641|\n",
      "|   mean| 8.774617784711367|\n",
      "| stddev|3.0760263864677273|\n",
      "|    min|              0.59|\n",
      "|    max|              21.0|\n",
      "+-------+------------------+\n",
      "\n"
     ]
    }
   ],
   "source": [
    "test_data.describe().show()"
   ]
  },
  {
   "cell_type": "code",
   "execution_count": 21,
   "metadata": {},
   "outputs": [],
   "source": [
    "lr = LinearRegression(labelCol='crew')"
   ]
  },
  {
   "cell_type": "code",
   "execution_count": 22,
   "metadata": {},
   "outputs": [],
   "source": [
    "lrModel = lr.fit(train_data)"
   ]
  },
  {
   "cell_type": "code",
   "execution_count": 23,
   "metadata": {},
   "outputs": [
    {
     "name": "stdout",
     "output_type": "stream",
     "text": [
      "Coefs: [0.08780808215474968,-0.02235925288298329,-0.001245429109476595,-0.1649951511108162,0.4077838984909384,0.9738295604284268,-0.00990801410882119] Intercept: -0.638356055310359\n"
     ]
    }
   ],
   "source": [
    "# les coefs\n",
    "print('Coefs: {} Intercept: {}'.format(lrModel.coefficients, lrModel.intercept))"
   ]
  },
  {
   "cell_type": "code",
   "execution_count": 24,
   "metadata": {},
   "outputs": [],
   "source": [
    "# Evaluation du modele\n",
    "test_result = lrModel.evaluate(test_data)"
   ]
  },
  {
   "cell_type": "code",
   "execution_count": 25,
   "metadata": {},
   "outputs": [
    {
     "name": "stdout",
     "output_type": "stream",
     "text": [
      "+--------------------+\n",
      "|           residuals|\n",
      "+--------------------+\n",
      "| 0.20177431397418033|\n",
      "| 0.20177431397418033|\n",
      "| 0.20177431397418033|\n",
      "| 0.20177431397418033|\n",
      "| -1.2474454343837635|\n",
      "| -1.2474454343837635|\n",
      "| -1.2474454343837635|\n",
      "| -1.2474454343837635|\n",
      "| -1.2474454343837635|\n",
      "| -1.2474454343837635|\n",
      "| -1.2474454343837635|\n",
      "| -1.2474454343837635|\n",
      "| -1.2474454343837635|\n",
      "| -1.2474454343837635|\n",
      "|0.021350319888464142|\n",
      "|0.021350319888464142|\n",
      "|0.021350319888464142|\n",
      "|0.021350319888464142|\n",
      "|0.021350319888464142|\n",
      "| 0.09672147957526889|\n",
      "+--------------------+\n",
      "only showing top 20 rows\n",
      "\n"
     ]
    }
   ],
   "source": [
    "test_result.residuals.show()"
   ]
  },
  {
   "cell_type": "code",
   "execution_count": 26,
   "metadata": {},
   "outputs": [],
   "source": [
    "unlabeled_data = test_data.select('features')"
   ]
  },
  {
   "cell_type": "code",
   "execution_count": 27,
   "metadata": {},
   "outputs": [],
   "source": [
    "predictions = lrModel.transform(unlabeled_data)"
   ]
  },
  {
   "cell_type": "code",
   "execution_count": 28,
   "metadata": {},
   "outputs": [
    {
     "name": "stdout",
     "output_type": "stream",
     "text": [
      "+--------------------+------------------+\n",
      "|            features|        prediction|\n",
      "+--------------------+------------------+\n",
      "|[0.0,4.0,220.0,54...| 20.79822568602582|\n",
      "|[0.0,4.0,220.0,54...| 20.79822568602582|\n",
      "|[0.0,4.0,220.0,54...| 20.79822568602582|\n",
      "|[0.0,4.0,220.0,54...| 20.79822568602582|\n",
      "|[0.0,5.0,160.0,36...|14.847445434383763|\n",
      "|[0.0,5.0,160.0,36...|14.847445434383763|\n",
      "|[0.0,5.0,160.0,36...|14.847445434383763|\n",
      "|[0.0,5.0,160.0,36...|14.847445434383763|\n",
      "|[0.0,5.0,160.0,36...|14.847445434383763|\n",
      "|[0.0,5.0,160.0,36...|14.847445434383763|\n",
      "|[0.0,5.0,160.0,36...|14.847445434383763|\n",
      "|[0.0,5.0,160.0,36...|14.847445434383763|\n",
      "|[0.0,5.0,160.0,36...|14.847445434383763|\n",
      "|[0.0,5.0,160.0,36...|14.847445434383763|\n",
      "|[0.0,6.0,158.0,43...|13.578649680111536|\n",
      "|[0.0,6.0,158.0,43...|13.578649680111536|\n",
      "|[0.0,6.0,158.0,43...|13.578649680111536|\n",
      "|[0.0,6.0,158.0,43...|13.578649680111536|\n",
      "|[0.0,6.0,158.0,43...|13.578649680111536|\n",
      "|[0.0,7.0,158.0,43...| 13.50327852042473|\n",
      "+--------------------+------------------+\n",
      "only showing top 20 rows\n",
      "\n"
     ]
    }
   ],
   "source": [
    "predictions.show()"
   ]
  },
  {
   "cell_type": "code",
   "execution_count": 29,
   "metadata": {},
   "outputs": [
    {
     "name": "stdout",
     "output_type": "stream",
     "text": [
      "RMSE: 1.017708380417418\n"
     ]
    }
   ],
   "source": [
    "print('RMSE: {}'.format(test_result.rootMeanSquaredError))"
   ]
  },
  {
   "cell_type": "code",
   "execution_count": 30,
   "metadata": {},
   "outputs": [
    {
     "name": "stdout",
     "output_type": "stream",
     "text": [
      "MSE: 1.035730347571844\n"
     ]
    }
   ],
   "source": [
    "print('MSE: {}'.format(test_result.meanSquaredError))"
   ]
  },
  {
   "cell_type": "code",
   "execution_count": 31,
   "metadata": {},
   "outputs": [
    {
     "data": {
      "text/plain": [
       "0.8903661554288541"
      ]
     },
     "execution_count": 31,
     "metadata": {},
     "output_type": "execute_result"
    }
   ],
   "source": [
    "test_result.r2"
   ]
  }
 ],
 "metadata": {
  "kernelspec": {
   "display_name": "pyspark_env",
   "language": "python",
   "name": "python3"
  },
  "language_info": {
   "codemirror_mode": {
    "name": "ipython",
    "version": 3
   },
   "file_extension": ".py",
   "mimetype": "text/x-python",
   "name": "python",
   "nbconvert_exporter": "python",
   "pygments_lexer": "ipython3",
   "version": "3.13.1"
  }
 },
 "nbformat": 4,
 "nbformat_minor": 2
}
