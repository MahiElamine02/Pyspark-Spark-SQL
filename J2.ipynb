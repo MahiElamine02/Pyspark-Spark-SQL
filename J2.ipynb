{
 "cells": [
  {
   "cell_type": "markdown",
   "id": "382dbde7-704d-4989-b354-79e7f50a13c1",
   "metadata": {},
   "source": [
    "### Initialisation de la session Spark"
   ]
  },
  {
   "cell_type": "code",
   "execution_count": 1,
   "id": "befba709-84b1-4bee-bbdc-4976df67ff0d",
   "metadata": {},
   "outputs": [],
   "source": [
    "from pyspark.sql import SparkSession\n",
    "spark = SparkSession.builder.appName('Partie2').getOrCreate()"
   ]
  },
  {
   "cell_type": "markdown",
   "id": "a528ac0e-5e56-43b6-9b03-74917465ad1d",
   "metadata": {},
   "source": [
    "#### Informations sur l'objet spark créé précédemment"
   ]
  },
  {
   "cell_type": "code",
   "execution_count": 2,
   "id": "7d37d40c-0344-4d44-a286-8eb98cdd3a82",
   "metadata": {},
   "outputs": [
    {
     "data": {
      "text/html": [
       "\n",
       "            <div>\n",
       "                <p><b>SparkSession - in-memory</b></p>\n",
       "                \n",
       "        <div>\n",
       "            <p><b>SparkContext</b></p>\n",
       "\n",
       "            <p><a href=\"http://DESKTOP-U0JDCH2.home:4041\">Spark UI</a></p>\n",
       "\n",
       "            <dl>\n",
       "              <dt>Version</dt>\n",
       "                <dd><code>v3.4.1</code></dd>\n",
       "              <dt>Master</dt>\n",
       "                <dd><code>local[*]</code></dd>\n",
       "              <dt>AppName</dt>\n",
       "                <dd><code>Partie2</code></dd>\n",
       "            </dl>\n",
       "        </div>\n",
       "        \n",
       "            </div>\n",
       "        "
      ],
      "text/plain": [
       "<pyspark.sql.session.SparkSession at 0x1ff2f4876d0>"
      ]
     },
     "execution_count": 2,
     "metadata": {},
     "output_type": "execute_result"
    }
   ],
   "source": [
    "spark"
   ]
  },
  {
   "cell_type": "markdown",
   "id": "322530eb-64c2-476a-a694-1085f4ee4d16",
   "metadata": {},
   "source": [
    "### Analyse de l'action d'Apple\n",
    "Contient toutes les statistiques quotidiennes liées aux actions d'Apple (AAPL) depuis 2010, y compris le cours de clôture, le cours d'ouverture, le cours maximum et le volume."
   ]
  },
  {
   "cell_type": "code",
   "execution_count": 3,
   "id": "efe7cb17-1428-47d4-b227-9f5646b176cb",
   "metadata": {},
   "outputs": [],
   "source": [
    "df = spark.read.csv('appl_stock.csv', inferSchema=True, header=True)"
   ]
  },
  {
   "cell_type": "markdown",
   "id": "fb26be26-cba5-4ffa-90b6-2ffd5fa4609d",
   "metadata": {},
   "source": [
    "Consultation du schéma déterminé par Spark automatiquement"
   ]
  },
  {
   "cell_type": "code",
   "execution_count": 43,
   "id": "58997011-aae1-42cf-83d2-043cbdb4e23b",
   "metadata": {},
   "outputs": [
    {
     "name": "stdout",
     "output_type": "stream",
     "text": [
      "root\n",
      " |-- Date: date (nullable = true)\n",
      " |-- Open: double (nullable = true)\n",
      " |-- High: double (nullable = true)\n",
      " |-- Low: double (nullable = true)\n",
      " |-- Close: double (nullable = true)\n",
      " |-- Volume: integer (nullable = true)\n",
      " |-- Adj Close: double (nullable = true)\n",
      "\n"
     ]
    }
   ],
   "source": [
    "df.printSchema()"
   ]
  },
  {
   "cell_type": "markdown",
   "id": "3c9e7f1c-c212-4f0f-8f49-32aa2e9b8148",
   "metadata": {},
   "source": [
    "Affichage des 4 premières lignes"
   ]
  },
  {
   "cell_type": "code",
   "execution_count": 44,
   "id": "4291b18b-6abe-4707-ad25-1c0cddd133de",
   "metadata": {},
   "outputs": [
    {
     "name": "stdout",
     "output_type": "stream",
     "text": [
      "+----------+----------+----------+------------------+----------+---------+------------------+\n",
      "|      Date|      Open|      High|               Low|     Close|   Volume|         Adj Close|\n",
      "+----------+----------+----------+------------------+----------+---------+------------------+\n",
      "|2010-01-04|213.429998|214.499996|212.38000099999996|214.009998|123432400|         27.727039|\n",
      "|2010-01-05|214.599998|215.589994|        213.249994|214.379993|150476200|27.774976000000002|\n",
      "|2010-01-06|214.379993|    215.23|        210.750004|210.969995|138040000|27.333178000000004|\n",
      "|2010-01-07|    211.75|212.000006|        209.050005|    210.58|119282800|          27.28265|\n",
      "+----------+----------+----------+------------------+----------+---------+------------------+\n",
      "only showing top 4 rows\n",
      "\n"
     ]
    }
   ],
   "source": [
    "df.show(4)"
   ]
  },
  {
   "cell_type": "markdown",
   "id": "89bfc6d3-12c7-441b-ba63-e29b2eba2474",
   "metadata": {},
   "source": [
    "Affichage des statistiques des différentes colonnes du dataframe"
   ]
  },
  {
   "cell_type": "code",
   "execution_count": 45,
   "id": "493d14d4-c4eb-47b3-9b4c-2952495318ad",
   "metadata": {},
   "outputs": [
    {
     "name": "stdout",
     "output_type": "stream",
     "text": [
      "+-------+------------------+------------------+------------------+-----------------+-------------------+------------------+\n",
      "|summary|              Open|              High|               Low|            Close|             Volume|         Adj Close|\n",
      "+-------+------------------+------------------+------------------+-----------------+-------------------+------------------+\n",
      "|  count|              1762|              1762|              1762|             1762|               1762|              1762|\n",
      "|   mean| 313.0763111589103| 315.9112880164581| 309.8282405079457|312.9270656379113|9.422577587968218E7| 75.00174115607275|\n",
      "| stddev|185.29946803981522|186.89817686485767|183.38391664371008|185.1471036170943|6.020518776592709E7| 28.57492972179906|\n",
      "|    min|              90.0|         90.699997|         89.470001|        90.279999|           11475900|         24.881912|\n",
      "|    max|        702.409988|        705.070023|        699.569977|       702.100021|          470249500|127.96609099999999|\n",
      "+-------+------------------+------------------+------------------+-----------------+-------------------+------------------+\n",
      "\n"
     ]
    }
   ],
   "source": [
    "df.describe().show()"
   ]
  },
  {
   "cell_type": "markdown",
   "id": "d7807198-afff-4796-a2b2-3e7b347f7d44",
   "metadata": {},
   "source": [
    "Affichage des 4 premières lignes pour lesquelles l'action à l'ouverture est strictement inférieur à 100"
   ]
  },
  {
   "cell_type": "code",
   "execution_count": 46,
   "id": "3a99cf09-0de7-4c55-b879-23fff90c216e",
   "metadata": {},
   "outputs": [
    {
     "name": "stdout",
     "output_type": "stream",
     "text": [
      "+----------+---------+---------+---------+---------+--------+---------+\n",
      "|      Date|     Open|     High|      Low|    Close|  Volume|Adj Close|\n",
      "+----------+---------+---------+---------+---------+--------+---------+\n",
      "|2014-06-09|92.699997|93.879997|    91.75|93.699997|75415000|88.906324|\n",
      "|2014-06-10|94.730003|95.050003|    93.57|    94.25|62777000|89.428189|\n",
      "|2014-06-11|94.129997|94.760002|93.470001|93.860001|45681000|89.058142|\n",
      "|2014-06-12|94.040001|94.120003|91.900002|92.290001|54749000|87.568463|\n",
      "+----------+---------+---------+---------+---------+--------+---------+\n",
      "only showing top 4 rows\n",
      "\n"
     ]
    }
   ],
   "source": [
    "df.filter('Open < 100').show(4)"
   ]
  },
  {
   "cell_type": "markdown",
   "id": "f564a643-1b12-4614-b216-c5539288e13f",
   "metadata": {},
   "source": [
    "Nombre de lignes pour lesquelles l'action à l'ouverture est strictement inférieur à 100"
   ]
  },
  {
   "cell_type": "code",
   "execution_count": 47,
   "id": "6638a6e0-60ea-4605-a840-413489a7987d",
   "metadata": {},
   "outputs": [
    {
     "data": {
      "text/plain": [
       "165"
      ]
     },
     "execution_count": 47,
     "metadata": {},
     "output_type": "execute_result"
    }
   ],
   "source": [
    "df.filter('Open < 100').count()"
   ]
  },
  {
   "cell_type": "markdown",
   "id": "f8dac13e-fd5b-48db-b55d-b8645fb2faf4",
   "metadata": {},
   "source": [
    "Pourcentage représenté"
   ]
  },
  {
   "cell_type": "code",
   "execution_count": 48,
   "id": "c0967b21-df04-4dc4-96b3-319f49e0be22",
   "metadata": {},
   "outputs": [
    {
     "data": {
      "text/plain": [
       "9.364358683314416"
      ]
     },
     "execution_count": 48,
     "metadata": {},
     "output_type": "execute_result"
    }
   ],
   "source": [
    "df.filter('Open < 100').count() / df.count() * 100"
   ]
  },
  {
   "cell_type": "markdown",
   "id": "feafaa1c-e888-4122-abaf-bfd685db3593",
   "metadata": {},
   "source": [
    "Lignes pour lesquelles le cout de l'action à la fermeture est supérieur à 300 et le retournement des 2 colonnes Date et Close"
   ]
  },
  {
   "cell_type": "code",
   "execution_count": 49,
   "id": "e8aa92ed-d745-410a-be3d-cd075371bbe2",
   "metadata": {},
   "outputs": [
    {
     "name": "stdout",
     "output_type": "stream",
     "text": [
      "+----------+------------------+\n",
      "|      Date|             Close|\n",
      "+----------+------------------+\n",
      "|2010-10-13|300.14000699999997|\n",
      "|2010-10-14|302.30998999999997|\n",
      "|2010-10-15|314.73999399999997|\n",
      "|2010-10-18|        317.999989|\n",
      "|2010-10-19|309.48999399999997|\n",
      "|2010-10-20|        310.529991|\n",
      "|2010-10-21|        309.520008|\n",
      "|2010-10-22|307.47000099999997|\n",
      "|2010-10-25|        308.839993|\n",
      "|2010-10-26|        308.049988|\n",
      "|2010-10-27|307.83000899999996|\n",
      "|2010-10-28|         305.23999|\n",
      "|2010-10-29|            300.98|\n",
      "|2010-11-01|        304.179993|\n",
      "|2010-11-02|        309.360004|\n",
      "|2010-11-03|        312.800003|\n",
      "|2010-11-04|        318.270008|\n",
      "|2010-11-05|        317.130009|\n",
      "|2010-11-08|        318.620003|\n",
      "|2010-11-09|        316.079998|\n",
      "+----------+------------------+\n",
      "only showing top 20 rows\n",
      "\n"
     ]
    }
   ],
   "source": [
    "df.filter(\"Close > 300\").select(\"Date\",\"Close\").show()"
   ]
  },
  {
   "cell_type": "markdown",
   "id": "5c07e176-6d80-4ef5-85de-81975de6672c",
   "metadata": {},
   "source": [
    "Lignes pour lesquelles Close < 200 et Open > 200"
   ]
  },
  {
   "cell_type": "code",
   "execution_count": 50,
   "id": "aa0a852d-0b05-4a30-8f76-f1e720ed40c2",
   "metadata": {},
   "outputs": [
    {
     "name": "stdout",
     "output_type": "stream",
     "text": [
      "+----------+------------------+----------+----------+----------+---------+------------------+\n",
      "|      Date|              Open|      High|       Low|     Close|   Volume|         Adj Close|\n",
      "+----------+------------------+----------+----------+----------+---------+------------------+\n",
      "|2010-01-22|206.78000600000001|207.499996|    197.16|    197.75|220441900|         25.620401|\n",
      "|2010-01-28|        204.930004|205.500004|198.699995|199.289995|293375600|25.819922000000002|\n",
      "|2010-01-29|        201.079996|202.199995|190.250002|192.060003|311488100|         24.883208|\n",
      "+----------+------------------+----------+----------+----------+---------+------------------+\n",
      "\n"
     ]
    }
   ],
   "source": [
    "df.filter( (df['Close'] < 200) & (df['Open'] > 200) ).show()"
   ]
  },
  {
   "cell_type": "markdown",
   "id": "30c271d0-f229-422f-a0fe-8cdf6b01b51f",
   "metadata": {},
   "source": [
    "#### Analyse des données de ventes de plusieurs entreprises"
   ]
  },
  {
   "cell_type": "code",
   "execution_count": 51,
   "id": "161f6001-7d62-4caf-a80b-082e238ec101",
   "metadata": {},
   "outputs": [],
   "source": [
    "# Lecture des données et stockage au sein d'un dataframe\n",
    "sales_df = spark.read.csv('sales_info.csv', inferSchema=True, header=True)"
   ]
  },
  {
   "cell_type": "code",
   "execution_count": 52,
   "id": "882bc21a-79bd-4c43-b86f-9fb59aadeae3",
   "metadata": {},
   "outputs": [
    {
     "name": "stdout",
     "output_type": "stream",
     "text": [
      "root\n",
      " |-- Company: string (nullable = true)\n",
      " |-- Person: string (nullable = true)\n",
      " |-- Sales: double (nullable = true)\n",
      "\n"
     ]
    }
   ],
   "source": [
    "sales_df.printSchema()"
   ]
  },
  {
   "cell_type": "code",
   "execution_count": 53,
   "id": "76fb0f3a-f2b9-4d0e-a334-08a176bc6edd",
   "metadata": {},
   "outputs": [
    {
     "name": "stdout",
     "output_type": "stream",
     "text": [
      "+-------+-------+-------+------------------+\n",
      "|summary|Company| Person|             Sales|\n",
      "+-------+-------+-------+------------------+\n",
      "|  count|     12|     12|                12|\n",
      "|   mean|   null|   null| 360.5833333333333|\n",
      "| stddev|   null|   null|250.08742410799007|\n",
      "|    min|   APPL|  Chris|             120.0|\n",
      "|    max|   MSFT|Vanessa|             870.0|\n",
      "+-------+-------+-------+------------------+\n",
      "\n"
     ]
    }
   ],
   "source": [
    "sales_df.describe().show()"
   ]
  },
  {
   "cell_type": "code",
   "execution_count": 54,
   "id": "00cb95db-cf32-48c9-8806-981014fb08e7",
   "metadata": {},
   "outputs": [
    {
     "name": "stdout",
     "output_type": "stream",
     "text": [
      "+-------+----------+\n",
      "|Company|sum(Sales)|\n",
      "+-------+----------+\n",
      "|   APPL|    1480.0|\n",
      "|   GOOG|     660.0|\n",
      "|     FB|    1220.0|\n",
      "|   MSFT|     967.0|\n",
      "+-------+----------+\n",
      "\n"
     ]
    }
   ],
   "source": [
    "sales_df.groupBy(\"Company\").agg({\"Sales\":\"sum\"}).show()"
   ]
  },
  {
   "cell_type": "markdown",
   "id": "4fb92593-6cfd-4519-aa96-f98ec086a884",
   "metadata": {},
   "source": [
    "## Visualisation des données"
   ]
  },
  {
   "cell_type": "code",
   "execution_count": 55,
   "id": "a583101e-c17c-4265-a3e8-2dd18db2e1e4",
   "metadata": {},
   "outputs": [],
   "source": [
    "# Import dependencies\n",
    "\n",
    "import numpy as np\n",
    "import pandas as pd\n",
    "\n",
    "import matplotlib.pyplot as plt"
   ]
  },
  {
   "cell_type": "code",
   "execution_count": 56,
   "id": "7b1f47fa-4b3d-4f90-8269-52cfd1daab76",
   "metadata": {},
   "outputs": [
    {
     "name": "stdout",
     "output_type": "stream",
     "text": [
      "+-------+-------+-----+\n",
      "|Company| Person|Sales|\n",
      "+-------+-------+-----+\n",
      "|   GOOG|    Sam|200.0|\n",
      "|   GOOG|Charlie|120.0|\n",
      "+-------+-------+-----+\n",
      "only showing top 2 rows\n",
      "\n"
     ]
    }
   ],
   "source": [
    "sales_df.show(2)"
   ]
  },
  {
   "cell_type": "code",
   "execution_count": 57,
   "id": "24d5c2ab-3bb8-42c9-b38c-810e5e731682",
   "metadata": {},
   "outputs": [
    {
     "name": "stdout",
     "output_type": "stream",
     "text": [
      "+----------+----------+----------+------------------+----------+---------+------------------+\n",
      "|      Date|      Open|      High|               Low|     Close|   Volume|         Adj Close|\n",
      "+----------+----------+----------+------------------+----------+---------+------------------+\n",
      "|2010-01-04|213.429998|214.499996|212.38000099999996|214.009998|123432400|         27.727039|\n",
      "|2010-01-05|214.599998|215.589994|        213.249994|214.379993|150476200|27.774976000000002|\n",
      "+----------+----------+----------+------------------+----------+---------+------------------+\n",
      "only showing top 2 rows\n",
      "\n"
     ]
    }
   ],
   "source": [
    "df.show(2)"
   ]
  },
  {
   "cell_type": "markdown",
   "id": "014a5b08-0f64-4776-b59f-a0756679434e",
   "metadata": {},
   "source": [
    "### Passage à un dataframe pandas pour la visualisation"
   ]
  },
  {
   "cell_type": "code",
   "execution_count": 58,
   "id": "0da27681-a20e-4472-9cf7-5fcb55c369d7",
   "metadata": {},
   "outputs": [],
   "source": [
    "df_pd = df.toPandas()"
   ]
  },
  {
   "cell_type": "markdown",
   "id": "9aff4a1b-7cc3-4b84-a185-27b8858a4328",
   "metadata": {},
   "source": [
    "### Nuage de points\n",
    "Etude de la correlation entre deux variables"
   ]
  },
  {
   "cell_type": "code",
   "execution_count": 59,
   "id": "bfb1579e-fbc2-4e17-908a-d8065f0254f9",
   "metadata": {},
   "outputs": [
    {
     "data": {
      "image/png": "[encoded data removed]",
      "text/plain": [
       "<Figure size 640x480 with 1 Axes>"
      ]
     },
     "metadata": {},
     "output_type": "display_data"
    }
   ],
   "source": [
    "plt.plot(df_pd['Open'], df_pd['Close'], linestyle='none', marker='o', color='#048cd3')\n",
    "plt.show()"
   ]
  },
  {
   "cell_type": "markdown",
   "id": "07e5ef1d-3932-44c8-9467-a03bd416cf5e",
   "metadata": {},
   "source": [
    "### Courbe\n",
    "Analyser l'évolution sur le temps d'une valeur numérique"
   ]
  },
  {
   "cell_type": "code",
   "execution_count": 60,
   "id": "f1309009-858f-400d-b5fb-8d7ae5dbf528",
   "metadata": {},
   "outputs": [
    {
     "data": {
      "image/png": "[encoded data removed]",
      "text/plain": [
       "<Figure size 640x480 with 1 Axes>"
      ]
     },
     "metadata": {},
     "output_type": "display_data"
    }
   ],
   "source": [
    "x = df_pd['Date']\n",
    "y = df_pd['Open']\n",
    "\n",
    "plt.plot(x,y, color='#048cd3', linestyle='-')\n",
    "plt.show()"
   ]
  },
  {
   "cell_type": "markdown",
   "id": "b24bb603-181b-43b9-8a3c-08c1dc7c861f",
   "metadata": {},
   "source": [
    "### Histogramme\n",
    "Analyser la distribution d'une variable numérique"
   ]
  },
  {
   "cell_type": "code",
   "execution_count": 64,
   "id": "f3ec0cd1-8706-4925-9ec7-fd9fd815a21b",
   "metadata": {},
   "outputs": [
    {
     "data": {
      "text/plain": [
       "Text(0.5, 1.0, 'Adj Close distribution.')"
      ]
     },
     "execution_count": 64,
     "metadata": {},
     "output_type": "execute_result"
    },
    {
     "data": {
      "image/png": "[encoded data removed]",
      "text/plain": [
       "<Figure size 640x480 with 1 Axes>"
      ]
     },
     "metadata": {},
     "output_type": "display_data"
    }
   ],
   "source": [
    "plt.hist(df_pd['Adj Close'])\n",
    "plt.xlabel('Adj Close')\n",
    "plt.ylabel('Count')\n",
    "plt.title('Adj Close distribution.')"
   ]
  },
  {
   "cell_type": "markdown",
   "id": "c0dd1e53-caaa-4e82-b0f6-2e53aa736fa3",
   "metadata": {},
   "source": [
    "### Graphique à barres\n",
    "Comparer des catégories suivant une valeur numérique"
   ]
  },
  {
   "cell_type": "code",
   "execution_count": 65,
   "id": "b03765c8-8a9e-4f57-b65c-409762343a33",
   "metadata": {},
   "outputs": [],
   "source": [
    "sales_df_pd = sales_df.toPandas()"
   ]
  },
  {
   "cell_type": "code",
   "execution_count": 66,
   "id": "a939b32a-9346-4599-bd72-9b5184f24489",
   "metadata": {},
   "outputs": [
    {
     "data": {
      "image/png": "[encoded data removed]",
      "text/plain": [
       "<Figure size 500x200 with 1 Axes>"
      ]
     },
     "metadata": {},
     "output_type": "display_data"
    }
   ],
   "source": [
    "fig = plt.figure(figsize = (5, 2))\n",
    " \n",
    "# creating the bar plot\n",
    "plt.bar(sales_df_pd['Company'], sales_df_pd['Sales'], color ='#048cd3', \n",
    "        width = 0.4)\n",
    " \n",
    "plt.xlabel(\"Company\")\n",
    "plt.ylabel(\"Sales\")\n",
    "plt.title(\"Sales by company\")\n",
    "plt.show()"
   ]
  },
  {
   "cell_type": "code",
   "execution_count": 67,
   "id": "75300499-668d-4819-adb0-6e4ab93f5c4d",
   "metadata": {},
   "outputs": [
    {
     "data": {
      "image/png": "[encoded data removed]",
      "text/plain": [
       "<Figure size 500x200 with 1 Axes>"
      ]
     },
     "metadata": {},
     "output_type": "display_data"
    }
   ],
   "source": [
    "fig = plt.figure(figsize = (5, 2))\n",
    " \n",
    "# creating the bar plot\n",
    "plt.barh(sales_df_pd['Company'],sales_df_pd['Sales'],  color ='#048cd3')\n",
    " \n",
    "plt.xlabel(\"Sales\")\n",
    "plt.ylabel(\"Company\")\n",
    "plt.title(\"Sales by company\")\n",
    "plt.show()"
   ]
  },
  {
   "cell_type": "code",
   "execution_count": null,
   "id": "b4832eaa-ca1c-4d94-81c2-ebadf86ec06c",
   "metadata": {},
   "outputs": [],
   "source": []
  }
 ],
 "metadata": {
  "kernelspec": {
   "display_name": "Python 3 (ipykernel)",
   "language": "python",
   "name": "python3"
  },
  "language_info": {
   "codemirror_mode": {
    "name": "ipython",
    "version": 3
   },
   "file_extension": ".py",
   "mimetype": "text/x-python",
   "name": "python",
   "nbconvert_exporter": "python",
   "pygments_lexer": "ipython3",
   "version": "3.11.7"
  }
 },
 "nbformat": 4,
 "nbformat_minor": 5
}
